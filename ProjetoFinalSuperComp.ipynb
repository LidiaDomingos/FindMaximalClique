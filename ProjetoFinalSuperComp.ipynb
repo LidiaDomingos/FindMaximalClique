{
  "nbformat": 4,
  "nbformat_minor": 0,
  "metadata": {
    "colab": {
      "provenance": [],
      "authorship_tag": "ABX9TyM38wHxV8xpmElDA44Xs5Lt",
      "include_colab_link": true
    },
    "kernelspec": {
      "name": "python3",
      "display_name": "Python 3"
    },
    "language_info": {
      "name": "python"
    }
  },
  "cells": [
    {
      "cell_type": "markdown",
      "metadata": {
        "id": "view-in-github",
        "colab_type": "text"
      },
      "source": [
        "<a href=\"https://colab.research.google.com/github/LidiaDomingos/FindMaximalClique/blob/main/ProjetoFinalSuperComp.ipynb\" target=\"_parent\"><img src=\"https://colab.research.google.com/assets/colab-badge.svg\" alt=\"Open In Colab\"/></a>"
      ]
    },
    {
      "cell_type": "markdown",
      "source": [
        "# **Análise de Redes Sociais**\n",
        "\n",
        "Disciplina: Super Computação - 7º semestre\n",
        "\n",
        "Aluna: Lídia Alves Chagas Domingos\n",
        "\n",
        "## **Encontrando o clique máximo em um gráfico.**\n",
        "\n",
        "---\n",
        "\n",
        "<img src=\"https://upload.wikimedia.org/wikipedia/commons/thumb/d/d0/VR_complex.svg/1200px-VR_complex.svg.png\" width=\"600\" height=\"350\">\n",
        "\n",
        "---\n",
        "\n",
        "\n",
        "\n",
        "\n",
        "\n",
        "\n"
      ],
      "metadata": {
        "id": "6Oa9IBY1bdIC"
      }
    },
    {
      "cell_type": "markdown",
      "source": [
        "<p align=\"justify\">A Análise de Redes Sociais (ARS) examina as relações entre atores sociais com base em conexões, em vez de características individuais. A ideia de que os membros estão mais próximos um do outro em um grafo é fundamental. Embora seja difícil computacionalmente encontrar o clique máximo em um grafo, é essencial na ARS para encontrar grupos coesos. Em áreas como ciência da computação e análise de redes sociais, os cliques promovem comportamentos uniformes e trocas rápidas de informações.\n",
        "\n",
        "#### *Objetivo*\n",
        "<p align=\"justify\"> O propósito do projeto é a partir de um código base, conseguir implementar uma busca exaustiva que ache o clique máximo em um grafo, e analisar os recursos que precisam, o tempo gasto, entre outros. Além disso, mostrar outras opções que utilizam menos recursos do que a busca global, explicar o porque elas servem, e implementar formas de melhorias de processamento, como a paralelização com OpenMP e MPI.\n",
        "\n"
      ],
      "metadata": {
        "id": "tKvvM_B4zi0x"
      }
    },
    {
      "cell_type": "markdown",
      "source": [
        "Código base dado de busca:"
      ],
      "metadata": {
        "id": "5MERtRAobcTU"
      }
    },
    {
      "cell_type": "code",
      "execution_count": 307,
      "metadata": {
        "colab": {
          "base_uri": "https://localhost:8080/"
        },
        "id": "tPri713TbaCg",
        "outputId": "94ed6aad-2751-4214-bf33-d8a748bb752d"
      },
      "outputs": [
        {
          "output_type": "stream",
          "name": "stdout",
          "text": [
            "Overwriting initialFind.cpp\n"
          ]
        }
      ],
      "source": [
        "%%writefile initialFind.cpp\n",
        "#include <iostream>\n",
        "#include <fstream>\n",
        "#include <vector>\n",
        "#include <string>\n",
        "#include <cmath>\n",
        "#include <algorithm>\n",
        "\n",
        "using namespace std;\n",
        "\n",
        "// Função para ler o grafo a partir do arquivo de entrada\n",
        "std::vector<std::vector<int>> LerGrafo(const std::string& nomeArquivo, int& numVertices) {\n",
        "    std::ifstream arquivo(nomeArquivo);\n",
        "    int numArestas;\n",
        "    arquivo >> numVertices >> numArestas;\n",
        "\n",
        "    std::vector<std::vector<int>> grafo(numVertices, std::vector<int>(numVertices, 0));\n",
        "\n",
        "    for (int i = 0; i < numArestas; ++i) {\n",
        "        int u, v;\n",
        "        arquivo >> u >> v;\n",
        "        grafo[u - 1][v - 1] = 1;\n",
        "        grafo[v - 1][u - 1] = 1;  // O grafo é não direcionado\n",
        "    }\n",
        "\n",
        "    arquivo.close();\n",
        "\n",
        "    return grafo;\n",
        "}\n",
        "\n",
        "vector<int> FindMaxClique(vector<vector<int>> &graph, int numVer){\n",
        "\n",
        "    vector<int> maxClique;\n",
        "    vector<int> possibles;\n",
        "\n",
        "    for (int clique = 0; clique < numVer; clique++){\n",
        "        possibles.push_back(clique);\n",
        "    }\n",
        "\n",
        "    while (!possibles.empty()){\n",
        "        int lastClique = possibles.back();\n",
        "        possibles.pop_back();\n",
        "\n",
        "        bool canAdd = true;\n",
        "\n",
        "        for (int u : maxClique){\n",
        "            if (graph[u][lastClique] == 0){\n",
        "                canAdd = false;\n",
        "                break;\n",
        "            }\n",
        "        }\n",
        "\n",
        "        if (canAdd == true){\n",
        "            maxClique.push_back(lastClique);\n",
        "            vector<int> newPossibles;\n",
        "\n",
        "            for (int u : possibles){\n",
        "                bool isAdjacent = true;\n",
        "\n",
        "                for (int c: maxClique){\n",
        "                    if (graph[u][c] == 0){\n",
        "                        isAdjacent = false;\n",
        "                        break;\n",
        "                    }\n",
        "                }\n",
        "\n",
        "                if (isAdjacent){\n",
        "                    newPossibles.push_back(u);\n",
        "                }\n",
        "            }\n",
        "\n",
        "            possibles = newPossibles;\n",
        "        }\n",
        "    }\n",
        "\n",
        "    return maxClique;\n",
        "}\n",
        "\n",
        "int main(int argc, char* argv[]){\n",
        "    int numVer;\n",
        "    vector<vector<int>> graph;\n",
        "\n",
        "    graph = LerGrafo(argv[1], numVer);\n",
        "\n",
        "    vector<int> maxClique;\n",
        "\n",
        "    maxClique = FindMaxClique(graph, numVer);\n",
        "\n",
        "    cout << \"Clique máximo achado com uma busca que pega o último vértice: \" << endl;\n",
        "\n",
        "    for (auto el : maxClique){\n",
        "        cout << el << \" \";\n",
        "    }\n",
        "    return 0;\n",
        "\n",
        "}"
      ]
    },
    {
      "cell_type": "code",
      "source": [
        "%%shell\n",
        "g++ -Wall -O3 initialFind.cpp -o initialFind"
      ],
      "metadata": {
        "colab": {
          "base_uri": "https://localhost:8080/"
        },
        "id": "Rd0b1va_eV90",
        "outputId": "4f8349a6-456b-4d26-f171-27bfa67168e6"
      },
      "execution_count": 308,
      "outputs": [
        {
          "output_type": "execute_result",
          "data": {
            "text/plain": []
          },
          "metadata": {},
          "execution_count": 308
        }
      ]
    },
    {
      "cell_type": "markdown",
      "source": [
        "<p align=\"justify\">Considerando um grafo inicial de 50 vértices para fazer as primeiras comparações:"
      ],
      "metadata": {
        "id": "aQY6hcMUjTQk"
      }
    },
    {
      "cell_type": "code",
      "source": [
        "#Função para gerar os grafos\n",
        "import networkx as nx\n",
        "import random\n",
        "from sys import *\n",
        "\n",
        "def generateGraph(num_vertices):\n",
        "    probabilidade_conexao = 0.7  # Probabilidade de haver uma aresta entre dois vértices (ajuste conforme necessário)\n",
        "\n",
        "    # Crie um grafo aleatório densamente conectado\n",
        "    grafo = nx.fast_gnp_random_graph(num_vertices, probabilidade_conexao)\n",
        "\n",
        "    # Nome do arquivo de saída\n",
        "    nome_arquivo = f\"graph{num_vertices}.txt\"\n",
        "\n",
        "    # Abra o arquivo para escrita\n",
        "    with open(nome_arquivo, 'w') as arquivo:\n",
        "        # Escreva a quantidade de vértices e número de arestas na primeira linha\n",
        "        arquivo.write(f\"{num_vertices} {grafo.number_of_edges()}\\n\")\n",
        "\n",
        "        # Escreva as arestas no formato de lista de adjacência\n",
        "        for aresta in grafo.edges():\n",
        "            arquivo.write(f\"{aresta[0]+1} {aresta[1]+1}\\n\")  # +1 para ajustar os índices (começando em 1)\n",
        "\n",
        "    print(f\"Grafo densamente conectado gerado e salvo em '{nome_arquivo}'.\")"
      ],
      "metadata": {
        "id": "zv3zqd60ATVC"
      },
      "execution_count": 300,
      "outputs": []
    },
    {
      "cell_type": "code",
      "source": [
        "generateGraph(50)"
      ],
      "metadata": {
        "colab": {
          "base_uri": "https://localhost:8080/"
        },
        "id": "jH0cO6cVAt7M",
        "outputId": "386692f0-fc2f-4309-acac-a7799c0b41d5"
      },
      "execution_count": 310,
      "outputs": [
        {
          "output_type": "stream",
          "name": "stdout",
          "text": [
            "Grafo densamente conectado gerado e salvo em 'graph50.txt'.\n"
          ]
        }
      ]
    },
    {
      "cell_type": "code",
      "source": [
        "!./initialFind graph50.txt"
      ],
      "metadata": {
        "colab": {
          "base_uri": "https://localhost:8080/"
        },
        "id": "62-3B8XleZRh",
        "outputId": "eefce7f5-2986-41a1-f89b-4cac8f415462"
      },
      "execution_count": 311,
      "outputs": [
        {
          "output_type": "stream",
          "name": "stdout",
          "text": [
            "Clique máximo achado com uma busca que pega o último vértice: \n",
            "49 46 45 42 39 33 25 24 21 "
          ]
        }
      ]
    },
    {
      "cell_type": "markdown",
      "source": [
        "Clique máximo achado pelo algoritmo em python disponibilizado pelos professores (verifyMaxClique):"
      ],
      "metadata": {
        "id": "oTex9idGjgdt"
      }
    },
    {
      "cell_type": "code",
      "source": [
        "import networkx as nx\n",
        "from sys import *\n",
        "\n",
        "def verifyMaxClique(num_vertices):\n",
        "  # Nome do arquivo de entrada\n",
        "  nome_arquivo = f\"graph{num_vertices}.txt\"\n",
        "\n",
        "  # Abrir o arquivo e pular a primeira linha\n",
        "  with open(nome_arquivo, 'r') as arquivo:\n",
        "      next(arquivo)  # Pula a primeira linha\n",
        "\n",
        "      # Lê o grafo a partir das linhas restantes\n",
        "      G = nx.parse_adjlist(arquivo)\n",
        "\n",
        "  # Encontrar todas as cliques maximais\n",
        "  cliques_maximais = list(nx.find_cliques(G))\n",
        "  # Encontrar a clique máxima (a maior)\n",
        "  clique_maxima = max(cliques_maximais, key=len)\n",
        "\n",
        "  return clique_maxima"
      ],
      "metadata": {
        "id": "wqwTc-wLPC8s"
      },
      "execution_count": 312,
      "outputs": []
    },
    {
      "cell_type": "code",
      "source": [
        "print(f\"Clique máximo achado: {verifyMaxClique(50)},\\nTamanho: {len(verifyMaxClique(50))}\")"
      ],
      "metadata": {
        "colab": {
          "base_uri": "https://localhost:8080/"
        },
        "id": "es3ZzDZSSHt8",
        "outputId": "c252b347-0013-4a74-b46f-889dec1845d5"
      },
      "execution_count": 313,
      "outputs": [
        {
          "output_type": "stream",
          "name": "stdout",
          "text": [
            "Clique máximo achado: ['47', '34', '44', '12', '40', '20', '14', '22', '32', '38', '45', '31', '30'],\n",
            "Tamanho: 13\n"
          ]
        }
      ]
    },
    {
      "cell_type": "markdown",
      "source": [
        "Observando essa diferença, se busca implementações melhores para se obter o melhor resultado com maior eficiência."
      ],
      "metadata": {
        "id": "VC_RKXNQjQ71"
      }
    },
    {
      "cell_type": "markdown",
      "source": [
        "**1.   Abordagem Exaustiva**"
      ],
      "metadata": {
        "id": "n927Iovxsrwp"
      }
    },
    {
      "cell_type": "code",
      "source": [
        "%%writefile exaustFind.cpp\n",
        "#include <iostream>\n",
        "#include <fstream>\n",
        "#include <vector>\n",
        "#include <string>\n",
        "#include <cmath>\n",
        "#include <algorithm>\n",
        "\n",
        "using namespace std;\n",
        "\n",
        "// Função para ler o grafo a partir do arquivo de entrada\n",
        "std::vector<std::vector<int>> LerGrafo(const std::string& nomeArquivo, int& numVertices) {\n",
        "    std::ifstream arquivo(nomeArquivo);\n",
        "    int numArestas;\n",
        "    arquivo >> numVertices >> numArestas;\n",
        "\n",
        "    std::vector<std::vector<int>> grafo(numVertices, std::vector<int>(numVertices, 0));\n",
        "\n",
        "    for (int i = 0; i < numArestas; ++i) {\n",
        "        int u, v;\n",
        "        arquivo >> u >> v;\n",
        "        grafo[u - 1][v - 1] = 1;\n",
        "        grafo[v - 1][u - 1] = 1;  // O grafo é não direcionado\n",
        "    }\n",
        "\n",
        "    arquivo.close();\n",
        "\n",
        "    return grafo;\n",
        "}\n",
        "\n",
        "void FindMaxClique(vector<vector<int>>& graph, vector<int>& possibles, vector<int>& currentClique, vector<int>& maxClique){\n",
        "\n",
        "    bool canAdd = true;\n",
        "\n",
        "    if (!possibles.empty()){\n",
        "      int lastClique = possibles.back();\n",
        "      possibles.pop_back();\n",
        "      currentClique.push_back(lastClique);\n",
        "\n",
        "      vector<int> newPossibles;\n",
        "\n",
        "      for (int cliquePossible : possibles){\n",
        "        if (graph[lastClique][cliquePossible] == 1){\n",
        "          newPossibles.push_back(cliquePossible);\n",
        "        }\n",
        "      }\n",
        "\n",
        "      FindMaxClique(graph, newPossibles, currentClique, maxClique);\n",
        "      currentClique.pop_back();\n",
        "      FindMaxClique(graph, possibles, currentClique, maxClique);\n",
        "      possibles.push_back(lastClique);\n",
        "\n",
        "    }\n",
        "    else {\n",
        "      int size = currentClique.size();\n",
        "      if (currentClique.size() > maxClique.size()){\n",
        "        for (int i = 0; i < size; ++i) {\n",
        "          for (int j = i + 1; j < size; ++j) {\n",
        "              if (graph[currentClique[i]][currentClique[j]] == 0) {\n",
        "                  canAdd = false;\n",
        "                  break;\n",
        "              }\n",
        "          }\n",
        "        }\n",
        "        if (canAdd){\n",
        "          maxClique = currentClique;\n",
        "        }\n",
        "      }\n",
        "    }\n",
        "\n",
        "}\n",
        "\n",
        "int main(int argc, char* argv[]){\n",
        "    int numVer;\n",
        "    vector<vector<int>> graph;\n",
        "\n",
        "    graph = LerGrafo(argv[1], numVer);\n",
        "    vector<int> currentClique;\n",
        "    vector<int> possibles;\n",
        "    vector<int> maxClique;\n",
        "\n",
        "    for (int clique = 0; clique < numVer; clique++){\n",
        "        possibles.push_back(clique);\n",
        "    }\n",
        "\n",
        "    FindMaxClique(graph, possibles, currentClique, maxClique);\n",
        "\n",
        "    cout << \"Clique máximo (tamanho \" << maxClique.size() <<\") achado com uma busca exaustiva: \" << endl;\n",
        "\n",
        "    for (int el : maxClique){\n",
        "        //adicionando 1 para bater com o resultado do verifyClique\n",
        "        cout << el + 1 << \" \";\n",
        "    }\n",
        "    return 0;\n",
        "}"
      ],
      "metadata": {
        "id": "V9ERSnNzrrq5",
        "colab": {
          "base_uri": "https://localhost:8080/"
        },
        "outputId": "7eae1b60-0871-45cc-feb6-c3084b8846ae"
      },
      "execution_count": 314,
      "outputs": [
        {
          "output_type": "stream",
          "name": "stdout",
          "text": [
            "Overwriting exaustFind.cpp\n"
          ]
        }
      ]
    },
    {
      "cell_type": "code",
      "source": [
        "%%shell\n",
        "g++ -Wall -O3 -g exaustFind.cpp -o exaustFind"
      ],
      "metadata": {
        "colab": {
          "base_uri": "https://localhost:8080/"
        },
        "id": "WmVfjAof_bJC",
        "outputId": "9b1784bd-a7da-4e9d-ff6e-10b7512b0f19"
      },
      "execution_count": 315,
      "outputs": [
        {
          "output_type": "execute_result",
          "data": {
            "text/plain": []
          },
          "metadata": {},
          "execution_count": 315
        }
      ]
    },
    {
      "cell_type": "code",
      "source": [
        "%%shell\n",
        "./exaustFind graph50.txt"
      ],
      "metadata": {
        "colab": {
          "base_uri": "https://localhost:8080/"
        },
        "id": "X2JgVS0d_e7H",
        "outputId": "bb7dac39-fcf3-42ac-ce84-aa972af63e5d"
      },
      "execution_count": 316,
      "outputs": [
        {
          "output_type": "stream",
          "name": "stdout",
          "text": [
            "Clique máximo (tamanho 13) achado com uma busca exaustiva: \n",
            "47 45 44 40 38 34 32 31 30 22 20 14 12 "
          ]
        },
        {
          "output_type": "execute_result",
          "data": {
            "text/plain": []
          },
          "metadata": {},
          "execution_count": 316
        }
      ]
    },
    {
      "cell_type": "markdown",
      "source": [
        "<p align=\"justify\">É possível ver que com uma busca exaustiva, que considera todas as possibilidades, foi possível achar o mesmo tamanho de clique! Para observar melhor como esse algoritmo funciona, pode-se aumentar número de vértices e consequentemente aumentar também o número de arestas:"
      ],
      "metadata": {
        "id": "U3jcsqI_7hTm"
      }
    },
    {
      "cell_type": "code",
      "source": [
        "import matplotlib.pyplot as plt\n",
        "import subprocess\n",
        "import time\n",
        "\n",
        "init = 50\n",
        "end = 150\n",
        "interval = 5\n",
        "\n",
        "sizeSimple = []\n",
        "timeSimple = []\n",
        "sizeExaust = []\n",
        "timeExaust = []\n",
        "quantityVer = []\n",
        "\n",
        "for i in range(init, end, interval):\n",
        "  generateGraph(i)\n",
        "\n",
        "  # ---- Busca Simples ----\n",
        "  startTime = time.perf_counter()\n",
        "  result = subprocess.run(['./initialFind', f\"graph{i}.txt\"], text=True, capture_output=True)\n",
        "  endTime = time.perf_counter()\n",
        "  timeSimple.append((endTime - startTime)/60)\n",
        "  result = result.stdout.split(\":\")[1].rstrip().lstrip(\" \\n\").replace(\" \", \",\")\n",
        "  resultList = [int(valor) for valor in result.split(',')]\n",
        "  sizeSimple.append(len(resultList))\n",
        "\n",
        "  # ---- Busca Exaustiva ----\n",
        "  startTime = time.perf_counter()\n",
        "  result = subprocess.run(['./exaustFind', f\"graph{i}.txt\"], text=True, capture_output=True)\n",
        "  endTime = time.perf_counter()\n",
        "  timeExaust.append((endTime - startTime)/60)\n",
        "  result = result.stdout.split(\":\")[1].rstrip().lstrip(\" \\n\").replace(\" \", \",\")\n",
        "  resultList = [int(valor) for valor in result.split(',')]\n",
        "  sizeExaust.append(len(resultList))\n",
        "\n",
        "  quantityVer.append(i)\n"
      ],
      "metadata": {
        "colab": {
          "base_uri": "https://localhost:8080/"
        },
        "id": "u3TypMgq-yNZ",
        "outputId": "d7cea428-9d20-4867-8cb2-87f833706e40"
      },
      "execution_count": 328,
      "outputs": [
        {
          "output_type": "stream",
          "name": "stdout",
          "text": [
            "Grafo densamente conectado gerado e salvo em 'graph50.txt'.\n",
            "Grafo densamente conectado gerado e salvo em 'graph55.txt'.\n",
            "Grafo densamente conectado gerado e salvo em 'graph60.txt'.\n",
            "Grafo densamente conectado gerado e salvo em 'graph65.txt'.\n",
            "Grafo densamente conectado gerado e salvo em 'graph70.txt'.\n",
            "Grafo densamente conectado gerado e salvo em 'graph75.txt'.\n",
            "Grafo densamente conectado gerado e salvo em 'graph80.txt'.\n",
            "Grafo densamente conectado gerado e salvo em 'graph85.txt'.\n",
            "Grafo densamente conectado gerado e salvo em 'graph90.txt'.\n",
            "Grafo densamente conectado gerado e salvo em 'graph95.txt'.\n",
            "Grafo densamente conectado gerado e salvo em 'graph100.txt'.\n",
            "Grafo densamente conectado gerado e salvo em 'graph105.txt'.\n",
            "Grafo densamente conectado gerado e salvo em 'graph110.txt'.\n",
            "Grafo densamente conectado gerado e salvo em 'graph115.txt'.\n",
            "Grafo densamente conectado gerado e salvo em 'graph120.txt'.\n",
            "Grafo densamente conectado gerado e salvo em 'graph125.txt'.\n",
            "Grafo densamente conectado gerado e salvo em 'graph130.txt'.\n",
            "Grafo densamente conectado gerado e salvo em 'graph135.txt'.\n",
            "Grafo densamente conectado gerado e salvo em 'graph140.txt'.\n",
            "Grafo densamente conectado gerado e salvo em 'graph145.txt'.\n"
          ]
        }
      ]
    },
    {
      "cell_type": "code",
      "source": [
        "sizeCorrect = []\n",
        "timeCorrect = []\n",
        "\n",
        "for i in range(init, end, interval):\n",
        "  startTime = time.perf_counter()\n",
        "  sizeCorrect.append(len(verifyMaxClique(i)))\n",
        "  endTime = time.perf_counter()\n",
        "  timeCorrect.append((endTime - startTime)/60)\n",
        "  print(f\"Finalizado gráfico com {i} vértices!\")"
      ],
      "metadata": {
        "colab": {
          "base_uri": "https://localhost:8080/"
        },
        "id": "dAVYvbm0TaoT",
        "outputId": "265d30c2-0aae-4461-8377-d57b7a95bc4d"
      },
      "execution_count": 329,
      "outputs": [
        {
          "output_type": "stream",
          "name": "stdout",
          "text": [
            "Finalizado gráfico com 50 vértices!\n",
            "Finalizado gráfico com 55 vértices!\n",
            "Finalizado gráfico com 60 vértices!\n",
            "Finalizado gráfico com 65 vértices!\n",
            "Finalizado gráfico com 70 vértices!\n",
            "Finalizado gráfico com 75 vértices!\n",
            "Finalizado gráfico com 80 vértices!\n",
            "Finalizado gráfico com 85 vértices!\n",
            "Finalizado gráfico com 90 vértices!\n",
            "Finalizado gráfico com 95 vértices!\n",
            "Finalizado gráfico com 100 vértices!\n",
            "Finalizado gráfico com 105 vértices!\n",
            "Finalizado gráfico com 110 vértices!\n",
            "Finalizado gráfico com 115 vértices!\n",
            "Finalizado gráfico com 120 vértices!\n",
            "Finalizado gráfico com 125 vértices!\n",
            "Finalizado gráfico com 130 vértices!\n",
            "Finalizado gráfico com 135 vértices!\n",
            "Finalizado gráfico com 140 vértices!\n",
            "Finalizado gráfico com 145 vértices!\n"
          ]
        }
      ]
    },
    {
      "cell_type": "code",
      "source": [
        "#Guardar os valores, devido a demora para rodar a célula.\n",
        "print(f'''\n",
        "  Tamanho da busca simples:   {sizeSimple},\\n  Tempo: {timeSimple} ; \\n\n",
        "  Tamanho da busca exaustiva: {sizeExaust},\\n  Tempo: {timeExaust} ; \\n\n",
        "  Tamanho da busca python:    {sizeCorrect},\\n  Tempo: {timeCorrect} ; \\n\n",
        "''')"
      ],
      "metadata": {
        "colab": {
          "base_uri": "https://localhost:8080/"
        },
        "id": "ThzG5Q_mX5hb",
        "outputId": "055fae3f-7ef3-4182-ef5d-fd516ebd8019"
      },
      "execution_count": 330,
      "outputs": [
        {
          "output_type": "stream",
          "name": "stdout",
          "text": [
            "\n",
            "  Tamanho da busca simples:   [8, 8, 9, 9, 6, 10, 10, 9, 10, 10, 9, 9, 12, 10, 10, 12, 12, 11, 11, 10],\n",
            "  Tempo: [4.748611663671909e-05, 4.188524999335641e-05, 4.7385683319589586e-05, 4.134770000140027e-05, 5.624645000352757e-05, 4.078441664508622e-05, 4.1691383315386096e-05, 5.199738334340509e-05, 5.94305332924705e-05, 6.319526661779188e-05, 6.372443331201794e-05, 5.509209998611671e-05, 6.0049033345421775e-05, 5.171014994023911e-05, 7.149818338803016e-05, 6.121275000623428e-05, 6.300196667628674e-05, 6.852801664839111e-05, 5.36487333495946e-05, 5.943599996195796e-05] ; \n",
            "\n",
            "  Tamanho da busca exaustiva: [12, 11, 13, 13, 12, 12, 14, 15, 14, 14, 15, 15, 15, 15, 16, 15, 16, 17, 16, 16],\n",
            "  Tempo: [0.00027373248328027935, 0.0002542868166832098, 0.001048137166678013, 0.001317827249962041, 0.0008282568833237747, 0.002241287399980744, 0.004310043533344772, 0.008340243966692166, 0.015636103716618284, 0.037991041499966134, 0.03974153874999805, 0.03337928433332612, 0.062185916400024625, 0.11815944160001285, 0.10269393995004066, 0.15456102986663608, 0.25416257136663867, 0.31653704769996693, 0.3944988596666614, 0.48873532778331236] ; \n",
            "\n",
            "  Tamanho da busca python:    [12, 11, 13, 13, 12, 12, 14, 15, 14, 14, 15, 15, 15, 15, 16, 15, 16, 17, 16, 16],\n",
            "  Tempo: [0.0008682818833525137, 0.0010140964999663994, 0.002807608016701124, 0.006350190633323412, 0.0041156497500196565, 0.009955872433359521, 0.015688824016676033, 0.021439999133326636, 0.028912371816659288, 0.055181826183373535, 0.11036099253336336, 0.08863506036662633, 0.179342713499985, 0.24433963503336903, 0.2830363431833272, 0.340257587883328, 0.5451073744000193, 0.7512232093167162, 0.9085610860166828, 1.2452471583499574] ; \n",
            "\n",
            "\n"
          ]
        }
      ]
    },
    {
      "cell_type": "markdown",
      "source": [
        "Para checarmos se está sendo realmente o maior clique, podemos visualizar também por meio de uma gráfico:"
      ],
      "metadata": {
        "id": "c47YeAYsO8Gr"
      }
    },
    {
      "cell_type": "code",
      "source": [
        "plt.title(\"Comparação dos tamanhos entre as buscas\")\n",
        "plt.plot(quantityVer, sizeSimple, label = \"Busca Simples\")\n",
        "plt.plot(quantityVer, sizeExaust, label = \"Busca Exaustiva\", alpha=0.5)\n",
        "plt.xlabel(\"Quantidade Vértices\")\n",
        "plt.ylabel(\"Tamanho Clique Máximo\")\n",
        "plt.legend()\n",
        "plt.show()"
      ],
      "metadata": {
        "colab": {
          "base_uri": "https://localhost:8080/",
          "height": 472
        },
        "id": "vGC1nw8_DL-w",
        "outputId": "292d85d9-0d29-4566-d456-ada5994f993a"
      },
      "execution_count": 331,
      "outputs": [
        {
          "output_type": "display_data",
          "data": {
            "text/plain": [
              "<Figure size 640x480 with 1 Axes>"
            ],
            "image/png": "[encoded data removed]"
          },
          "metadata": {}
        }
      ]
    },
    {
      "cell_type": "markdown",
      "source": [
        "Para melhor visualização ainda, dado que a exaustiva deu 100% de acurácia com o código em python:"
      ],
      "metadata": {
        "id": "L2uQBoB7N4Tq"
      }
    },
    {
      "cell_type": "code",
      "source": [
        "from tabulate import tabulate\n",
        "dados = []\n",
        "for i in range(0,len(sizeSimple)):\n",
        "  dados.append([sizeSimple[i], sizeExaust[i], sizeCorrect[i]])\n",
        "print(\"Comparação entre tamanhos\")\n",
        "print(tabulate(dados, headers=[\"Busca Simples\", \"Busca Exaustiva\", \"Busca Python\"], tablefmt=\"fancy_grid\"))"
      ],
      "metadata": {
        "colab": {
          "base_uri": "https://localhost:8080/"
        },
        "id": "Krm2rOIuL-yY",
        "outputId": "5976ca9d-59bb-4e73-b1ad-b89776da27fa"
      },
      "execution_count": 332,
      "outputs": [
        {
          "output_type": "stream",
          "name": "stdout",
          "text": [
            "Comparação entre tamanhos\n",
            "╒═════════════════╤═══════════════════╤════════════════╕\n",
            "│   Busca Simples │   Busca Exaustiva │   Busca Python │\n",
            "╞═════════════════╪═══════════════════╪════════════════╡\n",
            "│               8 │                12 │             12 │\n",
            "├─────────────────┼───────────────────┼────────────────┤\n",
            "│               8 │                11 │             11 │\n",
            "├─────────────────┼───────────────────┼────────────────┤\n",
            "│               9 │                13 │             13 │\n",
            "├─────────────────┼───────────────────┼────────────────┤\n",
            "│               9 │                13 │             13 │\n",
            "├─────────────────┼───────────────────┼────────────────┤\n",
            "│               6 │                12 │             12 │\n",
            "├─────────────────┼───────────────────┼────────────────┤\n",
            "│              10 │                12 │             12 │\n",
            "├─────────────────┼───────────────────┼────────────────┤\n",
            "│              10 │                14 │             14 │\n",
            "├─────────────────┼───────────────────┼────────────────┤\n",
            "│               9 │                15 │             15 │\n",
            "├─────────────────┼───────────────────┼────────────────┤\n",
            "│              10 │                14 │             14 │\n",
            "├─────────────────┼───────────────────┼────────────────┤\n",
            "│              10 │                14 │             14 │\n",
            "├─────────────────┼───────────────────┼────────────────┤\n",
            "│               9 │                15 │             15 │\n",
            "├─────────────────┼───────────────────┼────────────────┤\n",
            "│               9 │                15 │             15 │\n",
            "├─────────────────┼───────────────────┼────────────────┤\n",
            "│              12 │                15 │             15 │\n",
            "├─────────────────┼───────────────────┼────────────────┤\n",
            "│              10 │                15 │             15 │\n",
            "├─────────────────┼───────────────────┼────────────────┤\n",
            "│              10 │                16 │             16 │\n",
            "├─────────────────┼───────────────────┼────────────────┤\n",
            "│              12 │                15 │             15 │\n",
            "├─────────────────┼───────────────────┼────────────────┤\n",
            "│              12 │                16 │             16 │\n",
            "├─────────────────┼───────────────────┼────────────────┤\n",
            "│              11 │                17 │             17 │\n",
            "├─────────────────┼───────────────────┼────────────────┤\n",
            "│              11 │                16 │             16 │\n",
            "├─────────────────┼───────────────────┼────────────────┤\n",
            "│              10 │                16 │             16 │\n",
            "╘═════════════════╧═══════════════════╧════════════════╛\n"
          ]
        }
      ]
    },
    {
      "cell_type": "code",
      "source": [
        "plt.title(\"Comparação dos tempos entre as buscas\")\n",
        "plt.plot(quantityVer, timeSimple, label = \"Busca Simples\")\n",
        "plt.plot(quantityVer, timeExaust, label = \"Busca Exaustiva\")\n",
        "plt.xlabel(\"Quantidade Vértices\")\n",
        "plt.ylabel(\"Tempo (min)\")\n",
        "plt.legend()\n",
        "plt.show()"
      ],
      "metadata": {
        "colab": {
          "base_uri": "https://localhost:8080/",
          "height": 472
        },
        "id": "LKATCaqEO7OB",
        "outputId": "86503005-ebb1-4a35-d4ab-a6e29b405612"
      },
      "execution_count": 333,
      "outputs": [
        {
          "output_type": "display_data",
          "data": {
            "text/plain": [
              "<Figure size 640x480 with 1 Axes>"
            ],
            "image/png": "[encoded data removed]"
          },
          "metadata": {}
        }
      ]
    },
    {
      "cell_type": "markdown",
      "source": [
        "<p align=\"justify\">Com essas comparações, é possível observar o tempo gasto que precisa na exaustiva, devido ao grande número de verificações que ela faz, por mais que ela seja 100% de acurácia, a partir do momento que vai se aumentando o número de vértices, acaba precisando de muito tempo, de forma que, por exemplo, com tamanho de vértices de 200-220 precisa de mais de 20 minutos rodando, e assim o tempo sobre exponencialmente, conforme pode-se ver no gráfico. Por isso, pode-se pensar em modelos alternativas, como heurísticas.\n",
        "\n",
        "<p align=\"justify\">Heurísticas são métodos úteis e funcionais para resolver problemas difíceis em um curto período de tempo. Elas se destacam por serem fáceis de usar, eficientes e capazes de resolver uma ampla gama de problemas. Algoritmos exatos encontram a solução ideal, mas as heurísticas encontram soluções aceitáveis rapidamente. Isso os torna úteis em situações em que encontrar a solução ideal é impraticável. Embora as soluções heurísticas não sejam as melhores, elas geralmente são suficientes para várias aplicações práticas.\n",
        "\n",
        "Para isso, foi pensado na seguinte heuristica gulosa para o código base de busca local, mudando apenas a função:\n",
        "\n",
        "\n",
        "\n",
        "    Função FindMaxClique(graph, numVer):\n",
        "        maxClique = []\n",
        "        possibles = []\n",
        "\n",
        "        // Inicialize os possíveis vértices com todos os vértices do grafo\n",
        "        Para cada vértice em grafo:\n",
        "            Adicionar vértice a possibles\n",
        "\n",
        "        Enquanto possibles não está vazio:\n",
        "            // Escolha o vértice de maior grau entre os possíveis\n",
        "            maxDegreeVertex = -1\n",
        "            maxDegree = -1\n",
        "\n",
        "            Para cada vértice em possibles:\n",
        "                grau = Contar arestas do vértice no grafo\n",
        "                Se grau > maxDegree:\n",
        "                    maxDegree = grau\n",
        "                    maxDegreeVertex = vértice\n",
        "\n",
        "            // Remova o vértice escolhido dos possíveis\n",
        "            Remover maxDegreeVertex de possibles\n",
        "\n",
        "            // Verifique se o vértice pode ser adicionado ao clique\n",
        "            canAdd = Verdadeiro\n",
        "            Para cada vértice em maxClique:\n",
        "                Se não há aresta entre maxDegreeVertex e vértice:\n",
        "                    canAdd = Falso\n",
        "                    end loop\n",
        "\n",
        "            // Se puder ser adicionado, adicione-o e atualize os possíveis vértices\n",
        "            Se canAdd:\n",
        "                Adicionar maxDegreeVertex a maxClique\n",
        "                newPossibles = []\n",
        "\n",
        "                Para cada vértice em possiveisVertices:\n",
        "                    isAdjacent = Verdadeiro\n",
        "\n",
        "                    Para cada vérticeClique em maxClique:\n",
        "                        Se não há aresta entre vértice e vérticeClique:\n",
        "                            isAdjacent = Falso\n",
        "                            Parar loop\n",
        "\n",
        "                    Se isAdjacent:\n",
        "                        Adicionar vértice a newPossibles\n",
        "\n",
        "                possibles = newPossibles\n",
        "\n",
        "        Retornar maxClique\n",
        "\n"
      ],
      "metadata": {
        "id": "7Kb2d-nGf3Dk"
      }
    },
    {
      "cell_type": "markdown",
      "source": [
        "<p align=\"justify\"> A ideia dessa heuristica é de grau nos vértices, ou seja, que os vértices que estiverem mais ligados a outros vértices podem oferecer o clique máximo. Parte-se do principio"
      ],
      "metadata": {
        "id": "da-m46ZetwdH"
      }
    },
    {
      "cell_type": "markdown",
      "source": [
        "**2.  Abordagem com Paralelização OpenMP**\n",
        "\n",
        "\n",
        "<p align=\"justify\"> Paralelização com OpenMP é útil porque permite an execução simultânea de componentes independentes de um programa usando processadores multicore. Um padrão industrial amplamente aceito, isso acelera o desempenho, oferece escalabilidade, é fácil de implementar, é flexível e possui baixo overhead em termos de complexidade e custo de execução. Essa técnica é eficaz para melhorar o desempenho de tarefas com computadores em sistemas com mais de um núcleo.\n",
        "\n"
      ],
      "metadata": {
        "id": "ActG-UyyWFpg"
      }
    },
    {
      "cell_type": "code",
      "source": [
        "!apt-get install valgrind --fix-missing"
      ],
      "metadata": {
        "id": "hdp8KVUrf4RP"
      },
      "execution_count": null,
      "outputs": []
    },
    {
      "cell_type": "markdown",
      "source": [
        "Utilizei o valgrind para encontrar pontos que podem me dar uma melhora no tempo caso tenha uma paralelização."
      ],
      "metadata": {
        "id": "IRjCfBpQsbHr"
      }
    },
    {
      "cell_type": "code",
      "source": [
        "!valgrind --tool=callgrind ./exaustFind graph50.txt"
      ],
      "metadata": {
        "colab": {
          "base_uri": "https://localhost:8080/"
        },
        "id": "kvzx_32Ofz22",
        "outputId": "c518006c-8da2-4763-da84-71ae1ad6d963"
      },
      "execution_count": 189,
      "outputs": [
        {
          "output_type": "stream",
          "name": "stdout",
          "text": [
            "==56684== Callgrind, a call-graph generating cache profiler\n",
            "==56684== Copyright (C) 2002-2017, and GNU GPL'd, by Josef Weidendorfer et al.\n",
            "==56684== Using Valgrind-3.18.1 and LibVEX; rerun with -h for copyright info\n",
            "==56684== Command: ./exaustFind graph50.txt\n",
            "==56684== \n",
            "==56684== For interactive control, run 'callgrind_control -h'.\n",
            "Clique máximo (tamanho 12) achado com uma busca exaustiva: \n",
            "50 47 44 42 41 39 30 22 13 9 2 1 ==56684== \n",
            "==56684== Events    : Ir\n",
            "==56684== Collected : 135073258\n",
            "==56684== \n",
            "==56684== I   refs:      135,073,258\n"
          ]
        }
      ]
    },
    {
      "cell_type": "code",
      "source": [
        "!callgrind_annotate callgrind.out.56684 exaustFind.cpp"
      ],
      "metadata": {
        "colab": {
          "base_uri": "https://localhost:8080/"
        },
        "id": "mpUFRt3WgX67",
        "outputId": "da51c162-1d0d-4e7e-ed8a-51697d0bae3f"
      },
      "execution_count": 190,
      "outputs": [
        {
          "output_type": "stream",
          "name": "stdout",
          "text": [
            "--------------------------------------------------------------------------------\n",
            "Profile data file 'callgrind.out.56684' (creator: callgrind-3.18.1)\n",
            "--------------------------------------------------------------------------------\n",
            "I1 cache: \n",
            "D1 cache: \n",
            "LL cache: \n",
            "Timerange: Basic block 0 - 25261694\n",
            "Trigger: Program termination\n",
            "Profiled target:  ./exaustFind graph50.txt (PID 56684, part 1)\n",
            "Events recorded:  Ir\n",
            "Events shown:     Ir\n",
            "Event sort order: Ir\n",
            "Thresholds:       99\n",
            "Include dirs:     \n",
            "User annotated:   exaustFind.cpp\n",
            "Auto-annotation:  on\n",
            "\n",
            "--------------------------------------------------------------------------------\n",
            "Ir                   \n",
            "--------------------------------------------------------------------------------\n",
            "135,073,258 (100.0%)  PROGRAM TOTALS\n",
            "\n",
            "--------------------------------------------------------------------------------\n",
            "Ir                   file:function\n",
            "--------------------------------------------------------------------------------\n",
            "29,652,592 (21.95%)  exaustFind.cpp:FindMaxClique(std::vector<std::vector<int, std::allocator<int> >, std::allocator<std::vector<int, std::allocator<int> > > >&, std::vector<int, std::allocator<int> >&, std::vector<int, std::allocator<int> >&, std::vector<int, std::allocator<int> >&)'2 [/content/exaustFind]\n",
            "22,238,418 (16.46%)  ???:0x00000000000a26a0 [/usr/lib/x86_64-linux-gnu/libc.so.6]\n",
            "16,652,700 (12.33%)  /usr/include/c++/11/bits/stl_vector.h:FindMaxClique(std::vector<std::vector<int, std::allocator<int> >, std::allocator<std::vector<int, std::allocator<int> > > >&, std::vector<int, std::allocator<int> >&, std::vector<int, std::allocator<int> >&, std::vector<int, std::allocator<int> >&)'2\n",
            "13,791,397 (10.21%)  ???:malloc [/usr/lib/x86_64-linux-gnu/libc.so.6]\n",
            " 9,332,686 ( 6.91%)  /usr/include/c++/11/bits/vector.tcc:void std::vector<int, std::allocator<int> >::_M_realloc_insert<int const&>(__gnu_cxx::__normal_iterator<int*, std::vector<int, std::allocator<int> > >, int const&) [/content/exaustFind]\n",
            " 8,676,550 ( 6.42%)  ???:free [/usr/lib/x86_64-linux-gnu/libc.so.6]\n",
            " 6,282,449 ( 4.65%)  /usr/include/c++/11/bits/stl_vector.h:void std::vector<int, std::allocator<int> >::_M_realloc_insert<int const&>(__gnu_cxx::__normal_iterator<int*, std::vector<int, std::allocator<int> > >, int const&)\n",
            " 4,474,644 ( 3.31%)  /usr/include/c++/11/ext/new_allocator.h:void std::vector<int, std::allocator<int> >::_M_realloc_insert<int const&>(__gnu_cxx::__normal_iterator<int*, std::vector<int, std::allocator<int> > >, int const&)\n",
            " 4,164,732 ( 3.08%)  ???:operator new(unsigned long) [/usr/lib/x86_64-linux-gnu/libstdc++.so.6.0.30]\n",
            " 3,433,635 ( 2.54%)  /usr/include/c++/11/bits/stl_uninitialized.h:void std::vector<int, std::allocator<int> >::_M_realloc_insert<int const&>(__gnu_cxx::__normal_iterator<int*, std::vector<int, std::allocator<int> > >, int const&)\n",
            " 3,165,798 ( 2.34%)  /usr/include/c++/11/bits/stl_iterator.h:FindMaxClique(std::vector<std::vector<int, std::allocator<int> >, std::allocator<std::vector<int, std::allocator<int> > > >&, std::vector<int, std::allocator<int> >&, std::vector<int, std::allocator<int> >&, std::vector<int, std::allocator<int> >&)'2\n",
            " 2,172,982 ( 1.61%)  ???:0x00000000001a09c0 [/usr/lib/x86_64-linux-gnu/libc.so.6]\n",
            " 1,427,551 ( 1.06%)  /usr/include/c++/11/ext/new_allocator.h:FindMaxClique(std::vector<std::vector<int, std::allocator<int> >, std::allocator<std::vector<int, std::allocator<int> > > >&, std::vector<int, std::allocator<int> >&, std::vector<int, std::allocator<int> >&, std::vector<int, std::allocator<int> >&)'2\n",
            " 1,041,009 ( 0.77%)  /usr/include/c++/11/bits/stl_iterator.h:void std::vector<int, std::allocator<int> >::_M_realloc_insert<int const&>(__gnu_cxx::__normal_iterator<int*, std::vector<int, std::allocator<int> > >, int const&)\n",
            "   997,314 ( 0.74%)  ???:0x000000000000c0d0 [/usr/lib/x86_64-linux-gnu/ld-linux-x86-64.so.2]\n",
            "   694,129 ( 0.51%)  ???:0x00000000048f80d0 [???]\n",
            "   694,127 ( 0.51%)  ???:0x00000000048f82e0 [???]\n",
            "   694,127 ( 0.51%)  ???:0x00000000048f8b30 [???]\n",
            "   694,122 ( 0.51%)  ???:operator delete(void*) [/usr/lib/x86_64-linux-gnu/libstdc++.so.6.0.30]\n",
            "   694,120 ( 0.51%)  ???:0x000000000010a3b0 [???]\n",
            "   694,120 ( 0.51%)  ???:0x000000000010a3c0 [???]\n",
            "   694,120 ( 0.51%)  ???:operator delete(void*, unsigned long) [/usr/lib/x86_64-linux-gnu/libstdc++.so.6.0.30]\n",
            "   613,282 ( 0.45%)  ???:0x000000000000b3f0 [/usr/lib/x86_64-linux-gnu/ld-linux-x86-64.so.2]\n",
            "   391,698 ( 0.29%)  ???:std::istreambuf_iterator<char, std::char_traits<char> > std::num_get<char, std::istreambuf_iterator<char, std::char_traits<char> > >::_M_extract_int<long>(std::istreambuf_iterator<char, std::char_traits<char> >, std::istreambuf_iterator<char, std::char_traits<char> >, std::ios_base&, std::_Ios_Iostate&, long&) const [/usr/lib/x86_64-linux-gnu/libstdc++.so.6.0.30]\n",
            "   385,593 ( 0.29%)  ???:0x0000000000010d60 [/usr/lib/x86_64-linux-gnu/ld-linux-x86-64.so.2]\n",
            "\n",
            "--------------------------------------------------------------------------------\n",
            "-- Auto-annotated source: /usr/include/c++/11/bits/stl_uninitialized.h\n",
            "--------------------------------------------------------------------------------\n",
            "Ir                 \n",
            "\n",
            "-- line 228 ----------------------------------------\n",
            "        .                 template<typename _ForwardIterator, typename _Size, typename _Tp>\n",
            "        .                   static _ForwardIterator\n",
            "        .                   __uninit_fill_n(_ForwardIterator __first, _Size __n,\n",
            "        .           \t\t\tconst _Tp& __x)\n",
            "        .                   {\n",
            "        .           \t  _ForwardIterator __cur = __first;\n",
            "        .           \t  __try\n",
            "        .           \t    {\n",
            "      150 ( 0.00%)  \t      for (; __n > 0; --__n, (void) ++__cur)\n",
            "        .           \t\tstd::_Construct(std::__addressof(*__cur), __x);\n",
            "        .           \t      return __cur;\n",
            "        .           \t    }\n",
            "        .           \t  __catch(...)\n",
            "        .           \t    {\n",
            "        .           \t      std::_Destroy(__first, __cur);\n",
            "        .           \t      __throw_exception_again;\n",
            "        .           \t    }\n",
            "-- line 244 ----------------------------------------\n",
            "-- line 1001 ----------------------------------------\n",
            "        .               struct __is_bitwise_relocatable\n",
            "        .               : is_trivial<_Tp> { };\n",
            "        .           \n",
            "        .             template <typename _Tp, typename _Up>\n",
            "        .               inline __enable_if_t<std::__is_bitwise_relocatable<_Tp>::value, _Tp*>\n",
            "        .               __relocate_a_1(_Tp* __first, _Tp* __last,\n",
            "        .           \t\t   _Tp* __result, allocator<_Up>&) noexcept\n",
            "        .               {\n",
            "  347,003 ( 0.26%)        ptrdiff_t __count = __last - __first;\n",
            "1,388,012 ( 1.03%)        if (__count > 0)\n",
            "  310,608 ( 0.23%)  \t__builtin_memmove(__result, __first, __count * sizeof(_Tp));\n",
            "2,482,017 ( 1.84%)  => ???:0x000000000010a470 (155,304x)\n",
            "1,388,012 ( 1.03%)        return __result + __count;\n",
            "        .               }\n",
            "        .           \n",
            "        .             template <typename _InputIterator, typename _ForwardIterator,\n",
            "        .           \t    typename _Allocator>\n",
            "        .               inline _ForwardIterator\n",
            "        .               __relocate_a_1(_InputIterator __first, _InputIterator __last,\n",
            "        .           \t\t   _ForwardIterator __result, _Allocator& __alloc)\n",
            "        .               noexcept(noexcept(std::__relocate_object_a(std::addressof(*__result),\n",
            "-- line 1020 ----------------------------------------\n",
            "\n",
            "--------------------------------------------------------------------------------\n",
            "-- Auto-annotated source: /usr/include/c++/11/bits/vector.tcc\n",
            "--------------------------------------------------------------------------------\n",
            "Ir                 \n",
            "\n",
            "-- line 193 ----------------------------------------\n",
            "        .                 return __first;\n",
            "        .               }\n",
            "        .           \n",
            "        .             template<typename _Tp, typename _Alloc>\n",
            "        .               vector<_Tp, _Alloc>&\n",
            "        .               vector<_Tp, _Alloc>::\n",
            "        .               operator=(const vector<_Tp, _Alloc>& __x)\n",
            "        .               {\n",
            "       20 ( 0.00%)        if (&__x != this)\n",
            "        .           \t{\n",
            "        .           \t  _GLIBCXX_ASAN_ANNOTATE_REINIT;\n",
            "        .           #if __cplusplus >= 201103L\n",
            "        .           \t  if (_Alloc_traits::_S_propagate_on_copy_assign())\n",
            "        .           \t    {\n",
            "        .           \t      if (!_Alloc_traits::_S_always_equal()\n",
            "        .           \t          && _M_get_Tp_allocator() != __x._M_get_Tp_allocator())\n",
            "        .           \t        {\n",
            "-- line 209 ----------------------------------------\n",
            "-- line 216 ----------------------------------------\n",
            "        .           \t\t  this->_M_impl._M_finish = nullptr;\n",
            "        .           \t\t  this->_M_impl._M_end_of_storage = nullptr;\n",
            "        .           \t\t}\n",
            "        .           \t      std::__alloc_on_copy(_M_get_Tp_allocator(),\n",
            "        .           \t\t\t\t   __x._M_get_Tp_allocator());\n",
            "        .           \t    }\n",
            "        .           #endif\n",
            "        .           \t  const size_type __xlen = __x.size();\n",
            "       10 ( 0.00%)  \t  if (__xlen > capacity())\n",
            "        .           \t    {\n",
            "        .           \t      pointer __tmp = _M_allocate_and_copy(__xlen, __x.begin(),\n",
            "        .           \t\t\t\t\t\t   __x.end());\n",
            "       10 ( 0.00%)  \t      std::_Destroy(this->_M_impl._M_start, this->_M_impl._M_finish,\n",
            "        .           \t\t\t    _M_get_Tp_allocator());\n",
            "        .           \t      _M_deallocate(this->_M_impl._M_start,\n",
            "        .           \t\t\t    this->_M_impl._M_end_of_storage\n",
            "       16 ( 0.00%)  \t\t\t    - this->_M_impl._M_start);\n",
            "       10 ( 0.00%)  \t      this->_M_impl._M_start = __tmp;\n",
            "       15 ( 0.00%)  \t      this->_M_impl._M_end_of_storage = this->_M_impl._M_start + __xlen;\n",
            "        .           \t    }\n",
            "        .           \t  else if (size() >= __xlen)\n",
            "        .           \t    {\n",
            "        .           \t      std::_Destroy(std::copy(__x.begin(), __x.end(), begin()),\n",
            "        .           \t\t\t    end(), _M_get_Tp_allocator());\n",
            "        .           \t    }\n",
            "        .           \t  else\n",
            "        .           \t    {\n",
            "        .           \t      std::copy(__x._M_impl._M_start, __x._M_impl._M_start + size(),\n",
            "        .           \t\t\tthis->_M_impl._M_start);\n",
            "        .           \t      std::__uninitialized_copy_a(__x._M_impl._M_start + size(),\n",
            "        .           \t\t\t\t\t  __x._M_impl._M_finish,\n",
            "        .           \t\t\t\t\t  this->_M_impl._M_finish,\n",
            "        .           \t\t\t\t\t  _M_get_Tp_allocator());\n",
            "        .           \t    }\n",
            "        5 ( 0.00%)  \t  this->_M_impl._M_finish = this->_M_impl._M_start + __xlen;\n",
            "        .           \t}\n",
            "        .                 return *this;\n",
            "        .               }\n",
            "        .           \n",
            "        .             template<typename _Tp, typename _Alloc>\n",
            "        .               void\n",
            "        .               vector<_Tp, _Alloc>::\n",
            "        .               _M_fill_assign(size_t __n, const value_type& __val)\n",
            "-- line 258 ----------------------------------------\n",
            "-- line 418 ----------------------------------------\n",
            "        .                 *__position = std::forward<_Arg>(__arg);\n",
            "        .           #endif\n",
            "        .               }\n",
            "        .           \n",
            "        .           #if __cplusplus >= 201103L\n",
            "        .             template<typename _Tp, typename _Alloc>\n",
            "        .               template<typename... _Args>\n",
            "        .                 void\n",
            "3,817,033 ( 2.83%)        vector<_Tp, _Alloc>::\n",
            "        .                 _M_realloc_insert(iterator __position, _Args&&... __args)\n",
            "        .           #else\n",
            "        .             template<typename _Tp, typename _Alloc>\n",
            "        .               void\n",
            "        .               vector<_Tp, _Alloc>::\n",
            "        .               _M_realloc_insert(iterator __position, const _Tp& __x)\n",
            "        .           #endif\n",
            "        .               {\n",
            "-- line 434 ----------------------------------------\n",
            "-- line 456 ----------------------------------------\n",
            "        .           \t  __new_finish = pointer();\n",
            "        .           \n",
            "        .           #if __cplusplus >= 201103L\n",
            "        .           \t  if _GLIBCXX17_CONSTEXPR (_S_use_relocate())\n",
            "        .           \t    {\n",
            "        .           \t      __new_finish = _S_relocate(__old_start, __position.base(),\n",
            "        .           \t\t\t\t\t __new_start, _M_get_Tp_allocator());\n",
            "        .           \n",
            "  694,006 ( 0.51%)  \t      ++__new_finish;\n",
            "        .           \n",
            "        .           \t      __new_finish = _S_relocate(__position.base(), __old_finish,\n",
            "        .           \t\t\t\t\t __new_finish, _M_get_Tp_allocator());\n",
            "        .           \t    }\n",
            "        .           \t  else\n",
            "        .           #endif\n",
            "        .           \t    {\n",
            "        .           \t      __new_finish\n",
            "-- line 472 ----------------------------------------\n",
            "-- line 493 ----------------------------------------\n",
            "        .           \t  __throw_exception_again;\n",
            "        .           \t}\n",
            "        .           #if __cplusplus >= 201103L\n",
            "        .                 if _GLIBCXX17_CONSTEXPR (!_S_use_relocate())\n",
            "        .           #endif\n",
            "        .           \tstd::_Destroy(__old_start, __old_finish, _M_get_Tp_allocator());\n",
            "        .                 _GLIBCXX_ASAN_ANNOTATE_REINIT;\n",
            "        .                 _M_deallocate(__old_start,\n",
            "  310,608 ( 0.23%)  \t\t    this->_M_impl._M_end_of_storage - __old_start);\n",
            "  694,006 ( 0.51%)        this->_M_impl._M_start = __new_start;\n",
            "        .                 this->_M_impl._M_finish = __new_finish;\n",
            "1,041,009 ( 0.77%)        this->_M_impl._M_end_of_storage = __new_start + __len;\n",
            "2,776,024 ( 2.06%)      }\n",
            "        .           \n",
            "        .             template<typename _Tp, typename _Alloc>\n",
            "        .               void\n",
            "        .               vector<_Tp, _Alloc>::\n",
            "        .               _M_fill_insert(iterator __position, size_type __n, const value_type& __x)\n",
            "        .               {\n",
            "        .                 if (__n != 0)\n",
            "        .           \t{\n",
            "-- line 513 ----------------------------------------\n",
            "\n",
            "--------------------------------------------------------------------------------\n",
            "-- Auto-annotated source: /usr/include/c++/11/bits/stl_iterator.h\n",
            "--------------------------------------------------------------------------------\n",
            "Ir                 \n",
            "\n",
            "-- line 1020 ----------------------------------------\n",
            "        .                 using iterator_concept = std::__detail::__iter_concept<_Iterator>;\n",
            "        .           #endif\n",
            "        .           \n",
            "        .                 _GLIBCXX_CONSTEXPR __normal_iterator() _GLIBCXX_NOEXCEPT\n",
            "        .                 : _M_current(_Iterator()) { }\n",
            "        .           \n",
            "        .                 explicit _GLIBCXX20_CONSTEXPR\n",
            "        .                 __normal_iterator(const _Iterator& __i) _GLIBCXX_NOEXCEPT\n",
            "3,165,804 ( 2.34%)        : _M_current(__i) { }\n",
            "        .           \n",
            "        .                 // Allow iterator to const_iterator conversion\n",
            "        .                 template<typename _Iter>\n",
            "        .                   _GLIBCXX20_CONSTEXPR\n",
            "        .                   __normal_iterator(const __normal_iterator<_Iter,\n",
            "        .           \t\t\t  typename __enable_if<\n",
            "        .                 \t       (std::__are_same<_Iter, typename _Container::pointer>::__value),\n",
            "        .           \t\t      _Container>::__type>& __i) _GLIBCXX_NOEXCEPT\n",
            "-- line 1036 ----------------------------------------\n",
            "-- line 1263 ----------------------------------------\n",
            "        .               { return __lhs.base() - __rhs.base(); }\n",
            "        .           \n",
            "        .             template<typename _Iterator, typename _Container>\n",
            "        .               _GLIBCXX20_CONSTEXPR\n",
            "        .               inline typename __normal_iterator<_Iterator, _Container>::difference_type\n",
            "        .               operator-(const __normal_iterator<_Iterator, _Container>& __lhs,\n",
            "        .           \t      const __normal_iterator<_Iterator, _Container>& __rhs)\n",
            "        .               _GLIBCXX_NOEXCEPT\n",
            "1,041,009 ( 0.77%)      { return __lhs.base() - __rhs.base(); }\n",
            "        .           \n",
            "        .             template<typename _Iterator, typename _Container>\n",
            "        .               _GLIBCXX20_CONSTEXPR\n",
            "        .               inline __normal_iterator<_Iterator, _Container>\n",
            "        .               operator+(typename __normal_iterator<_Iterator, _Container>::difference_type\n",
            "        .           \t      __n, const __normal_iterator<_Iterator, _Container>& __i)\n",
            "        .               _GLIBCXX_NOEXCEPT\n",
            "        .               { return __normal_iterator<_Iterator, _Container>(__i.base() + __n); }\n",
            "-- line 1279 ----------------------------------------\n",
            "\n",
            "--------------------------------------------------------------------------------\n",
            "-- Auto-annotated source: /usr/include/c++/11/bits/stl_vector.h\n",
            "--------------------------------------------------------------------------------\n",
            "Ir                 \n",
            "\n",
            "-- line 90 ----------------------------------------\n",
            "        .           \n",
            "        .                 struct _Vector_impl_data\n",
            "        .                 {\n",
            "        .           \tpointer _M_start;\n",
            "        .           \tpointer _M_finish;\n",
            "        .           \tpointer _M_end_of_storage;\n",
            "        .           \n",
            "        .           \t_Vector_impl_data() _GLIBCXX_NOEXCEPT\n",
            "1,187,338 ( 0.88%)  \t: _M_start(), _M_finish(), _M_end_of_storage()\n",
            "        .           \t{ }\n",
            "        .           \n",
            "        .           #if __cplusplus >= 201103L\n",
            "        .           \t_Vector_impl_data(_Vector_impl_data&& __x) noexcept\n",
            "        .           \t: _M_start(__x._M_start), _M_finish(__x._M_finish),\n",
            "        .           \t  _M_end_of_storage(__x._M_end_of_storage)\n",
            "        .           \t{ __x._M_start = __x._M_finish = __x._M_end_of_storage = pointer(); }\n",
            "        .           #endif\n",
            "        .           \n",
            "        .           \tvoid\n",
            "        .           \t_M_copy_data(_Vector_impl_data const& __x) _GLIBCXX_NOEXCEPT\n",
            "        .           \t{\n",
            "        6 ( 0.00%)  \t  _M_start = __x._M_start;\n",
            "        .           \t  _M_finish = __x._M_finish;\n",
            "        5 ( 0.00%)  \t  _M_end_of_storage = __x._M_end_of_storage;\n",
            "        .           \t}\n",
            "        .           \n",
            "        .           \tvoid\n",
            "        .           \t_M_swap_data(_Vector_impl_data& __x) _GLIBCXX_NOEXCEPT\n",
            "        .           \t{\n",
            "        .           \t  // Do not use std::swap(_M_start, __x._M_start), etc as it loses\n",
            "        .           \t  // information used by TBAA.\n",
            "        .           \t  _Vector_impl_data __tmp;\n",
            "-- line 121 ----------------------------------------\n",
            "-- line 328 ----------------------------------------\n",
            "        .                 _Vector_base(const allocator_type& __a, _Vector_base&& __x)\n",
            "        .                 : _M_impl(_Tp_alloc_type(__a), std::move(__x._M_impl))\n",
            "        .                 { }\n",
            "        .           #endif\n",
            "        .           \n",
            "        .                 ~_Vector_base() _GLIBCXX_NOEXCEPT\n",
            "        .                 {\n",
            "        .           \t_M_deallocate(_M_impl._M_start,\n",
            "  383,505 ( 0.28%)  \t\t      _M_impl._M_end_of_storage - _M_impl._M_start);\n",
            "        .                 }\n",
            "        .           \n",
            "        .               public:\n",
            "        .                 _Vector_impl _M_impl;\n",
            "        .           \n",
            "        .                 pointer\n",
            "        .                 _M_allocate(size_t __n)\n",
            "        .                 {\n",
            "        .           \ttypedef __gnu_cxx::__alloc_traits<_Tp_alloc_type> _Tr;\n",
            "  694,020 ( 0.51%)  \treturn __n != 0 ? _Tr::allocate(_M_impl, __n) : pointer();\n",
            "        .                 }\n",
            "        .           \n",
            "        .                 void\n",
            "        1 ( 0.00%)        _M_deallocate(pointer __p, size_t __n)\n",
            "        .                 {\n",
            "        .           \ttypedef __gnu_cxx::__alloc_traits<_Tp_alloc_type> _Tr;\n",
            "1,174,970 ( 0.87%)  \tif (__p)\n",
            "        .           \t  _Tr::deallocate(_M_impl, __p, __n);\n",
            "        .                 }\n",
            "        .           \n",
            "        .               protected:\n",
            "        .                 void\n",
            "        .                 _M_create_storage(size_t __n)\n",
            "        .                 {\n",
            "      159 ( 0.00%)  \tthis->_M_impl._M_start = this->_M_allocate(__n);\n",
            "        .           \tthis->_M_impl._M_finish = this->_M_impl._M_start;\n",
            "      105 ( 0.00%)  \tthis->_M_impl._M_end_of_storage = this->_M_impl._M_start + __n;\n",
            "        .                 }\n",
            "        .               };\n",
            "        .           \n",
            "        .             /**\n",
            "        .              *  @brief A standard container which offers fixed time access to\n",
            "        .              *  individual elements in any order.\n",
            "        .              *\n",
            "        .              *  @ingroup sequences\n",
            "-- line 371 ----------------------------------------\n",
            "-- line 549 ----------------------------------------\n",
            "        .                  *\n",
            "        .                  *  The newly-created %vector uses a copy of the allocator object used\n",
            "        .                  *  by @a __x (unless the allocator traits dictate a different object).\n",
            "        .                  */\n",
            "        .                 vector(const vector& __x)\n",
            "        .                 : _Base(__x.size(),\n",
            "        .           \t_Alloc_traits::_S_select_on_copy(__x._M_get_Tp_allocator()))\n",
            "        .                 {\n",
            "      100 ( 0.00%)  \tthis->_M_impl._M_finish =\n",
            "        .           \t  std::__uninitialized_copy_a(__x.begin(), __x.end(),\n",
            "        .           \t\t\t\t      this->_M_impl._M_start,\n",
            "        .           \t\t\t\t      _M_get_Tp_allocator());\n",
            "        .                 }\n",
            "        .           \n",
            "        .           #if __cplusplus >= 201103L\n",
            "        .                 /**\n",
            "        .                  *  @brief  %Vector move constructor.\n",
            "-- line 565 ----------------------------------------\n",
            "-- line 670 ----------------------------------------\n",
            "        .           #endif\n",
            "        .           \n",
            "        .                 /**\n",
            "        .                  *  The dtor only erases the elements, and note that if the\n",
            "        .                  *  elements themselves are pointers, the pointed-to memory is\n",
            "        .                  *  not touched in any way.  Managing the pointer is the user's\n",
            "        .                  *  responsibility.\n",
            "        .                  */\n",
            "       15 ( 0.00%)        ~vector() _GLIBCXX_NOEXCEPT\n",
            "        .                 {\n",
            "  395,784 ( 0.29%)  \tstd::_Destroy(this->_M_impl._M_start, this->_M_impl._M_finish,\n",
            "        .           \t\t      _M_get_Tp_allocator());\n",
            "        .           \t_GLIBCXX_ASAN_ANNOTATE_BEFORE_DEALLOC;\n",
            "       11 ( 0.00%)        }\n",
            "        .           \n",
            "        .                 /**\n",
            "        .                  *  @brief  %Vector assignment operator.\n",
            "        .                  *  @param  __x  A %vector of identical element and allocator types.\n",
            "        .                  *\n",
            "        .                  *  All the elements of @a __x are copied, but any unused capacity in\n",
            "        .                  *  @a __x will not be copied.\n",
            "        .                  *\n",
            "-- line 691 ----------------------------------------\n",
            "-- line 911 ----------------------------------------\n",
            "        .                 crend() const noexcept\n",
            "        .                 { return const_reverse_iterator(begin()); }\n",
            "        .           #endif\n",
            "        .           \n",
            "        .                 // [23.2.4.2] capacity\n",
            "        .                 /**  Returns the number of elements in the %vector.  */\n",
            "        .                 size_type\n",
            "        .                 size() const _GLIBCXX_NOEXCEPT\n",
            "4,206,830 ( 3.11%)        { return size_type(this->_M_impl._M_finish - this->_M_impl._M_start); }\n",
            "        .           \n",
            "        .                 /**  Returns the size() of the largest possible %vector.  */\n",
            "        .                 size_type\n",
            "        .                 max_size() const _GLIBCXX_NOEXCEPT\n",
            "        .                 { return _S_max_size(_M_get_Tp_allocator()); }\n",
            "        .           \n",
            "        .           #if __cplusplus >= 201103L\n",
            "        .                 /**\n",
            "-- line 927 ----------------------------------------\n",
            "-- line 992 ----------------------------------------\n",
            "        .           \n",
            "        .                 /**\n",
            "        .                  *  Returns the total number of elements that the %vector can\n",
            "        .                  *  hold before needing to allocate more memory.\n",
            "        .                  */\n",
            "        .                 size_type\n",
            "        .                 capacity() const _GLIBCXX_NOEXCEPT\n",
            "        .                 { return size_type(this->_M_impl._M_end_of_storage\n",
            "       20 ( 0.00%)  \t\t\t - this->_M_impl._M_start); }\n",
            "        .           \n",
            "        .                 /**\n",
            "        .                  *  Returns true if the %vector is empty.  (Thus begin() would\n",
            "        .                  *  equal end().)\n",
            "        .                  */\n",
            "        .                 _GLIBCXX_NODISCARD bool\n",
            "        .                 empty() const _GLIBCXX_NOEXCEPT\n",
            "        .                 { return begin() == end(); }\n",
            "-- line 1008 ----------------------------------------\n",
            "-- line 1038 ----------------------------------------\n",
            "        .                  *  Note that data access with this operator is unchecked and\n",
            "        .                  *  out_of_range lookups are not defined. (For checked lookups\n",
            "        .                  *  see at().)\n",
            "        .                  */\n",
            "        .                 reference\n",
            "        .                 operator[](size_type __n) _GLIBCXX_NOEXCEPT\n",
            "        .                 {\n",
            "        .           \t__glibcxx_requires_subscript(__n);\n",
            "1,332,315 ( 0.99%)  \treturn *(this->_M_impl._M_start + __n);\n",
            "        .                 }\n",
            "        .           \n",
            "        .                 /**\n",
            "        .                  *  @brief  Subscript access to the data contained in the %vector.\n",
            "        .                  *  @param __n The index of the element for which data should be\n",
            "        .                  *  accessed.\n",
            "        .                  *  @return  Read-only (constant) reference to data.\n",
            "        .                  *\n",
            "-- line 1054 ----------------------------------------\n",
            "-- line 1181 ----------------------------------------\n",
            "        .                  *  element at the end of the %vector and assigns the given data\n",
            "        .                  *  to it.  Due to the nature of a %vector this operation can be\n",
            "        .                  *  done in constant time if the %vector has preallocated space\n",
            "        .                  *  available.\n",
            "        .                  */\n",
            "        .                 void\n",
            "        .                 push_back(const value_type& __x)\n",
            "        .                 {\n",
            "3,561,573 ( 2.64%)  \tif (this->_M_impl._M_finish != this->_M_impl._M_end_of_storage)\n",
            "        .           \t  {\n",
            "        .           \t    _GLIBCXX_ASAN_ANNOTATE_GROW(1);\n",
            "        .           \t    _Alloc_traits::construct(this->_M_impl, this->_M_impl._M_finish,\n",
            "        .           \t\t\t\t     __x);\n",
            "1,680,344 ( 1.24%)  \t    ++this->_M_impl._M_finish;\n",
            "        .           \t    _GLIBCXX_ASAN_ANNOTATE_GREW(1);\n",
            "        .           \t  }\n",
            "        .           \telse\n",
            "2,575,195 ( 1.91%)  \t  _M_realloc_insert(end(), __x);\n",
            "    2,047 ( 0.00%)  => /usr/include/c++/11/bits/vector.tcc:void std::vector<int, std::allocator<int> >::_M_realloc_insert<int const&>(__gnu_cxx::__normal_iterator<int*, std::vector<int, std::allocator<int> > >, int const&) (8x)\n",
            "        .                 }\n",
            "        .           \n",
            "        .           #if __cplusplus >= 201103L\n",
            "        .                 void\n",
            "        .                 push_back(value_type&& __x)\n",
            "        .                 { emplace_back(std::move(__x)); }\n",
            "        .           \n",
            "        .                 template<typename... _Args>\n",
            "-- line 1206 ----------------------------------------\n",
            "-- line 1220 ----------------------------------------\n",
            "        .                  *  Note that no data is returned, and if the last element's\n",
            "        .                  *  data is needed, it should be retrieved before pop_back() is\n",
            "        .                  *  called.\n",
            "        .                  */\n",
            "        .                 void\n",
            "        .                 pop_back() _GLIBCXX_NOEXCEPT\n",
            "        .                 {\n",
            "        .           \t__glibcxx_requires_nonempty();\n",
            "1,582,900 ( 1.17%)  \t--this->_M_impl._M_finish;\n",
            "        .           \t_Alloc_traits::destroy(this->_M_impl, this->_M_impl._M_finish);\n",
            "        .           \t_GLIBCXX_ASAN_ANNOTATE_SHRINK(1);\n",
            "        .                 }\n",
            "        .           \n",
            "        .           #if __cplusplus >= 201103L\n",
            "        .                 /**\n",
            "        .                  *  @brief  Inserts an object in %vector before specified iterator.\n",
            "        .                  *  @param  __position  A const_iterator into the %vector.\n",
            "-- line 1236 ----------------------------------------\n",
            "-- line 1587 ----------------------------------------\n",
            "        .           \t\t\t\t\t_M_get_Tp_allocator());\n",
            "        .           \t}\n",
            "        .           \n",
            "        .                 // Called by the first initialize_dispatch above and by the\n",
            "        .                 // vector(n,value,a) constructor.\n",
            "        .                 void\n",
            "        .                 _M_fill_initialize(size_type __n, const value_type& __value)\n",
            "        .                 {\n",
            "        2 ( 0.00%)  \tthis->_M_impl._M_finish =\n",
            "        .           \t  std::__uninitialized_fill_n_a(this->_M_impl._M_start, __n, __value,\n",
            "        .           \t\t\t\t\t_M_get_Tp_allocator());\n",
            "        .                 }\n",
            "        .           \n",
            "        .           #if __cplusplus >= 201103L\n",
            "        .                 // Called by the vector(n) constructor.\n",
            "        .                 void\n",
            "        .                 _M_default_initialize(size_type __n)\n",
            "-- line 1603 ----------------------------------------\n",
            "-- line 1750 ----------------------------------------\n",
            "        .                 _M_emplace_aux(const_iterator __position, value_type&& __v)\n",
            "        .                 { return _M_insert_rval(__position, std::move(__v)); }\n",
            "        .           #endif\n",
            "        .           \n",
            "        .                 // Called by _M_fill_insert, _M_insert_aux etc.\n",
            "        .                 size_type\n",
            "        .                 _M_check_len(size_type __n, const char* __s) const\n",
            "        .                 {\n",
            "3,470,030 ( 2.57%)  \tif (max_size() - size() < __n)\n",
            "        .           \t  __throw_length_error(__N(__s));\n",
            "        .           \n",
            "        .           \tconst size_type __len = size() + (std::max)(size(), __n);\n",
            "  694,006 ( 0.51%)  \treturn (__len < size() || __len > max_size()) ? max_size() : __len;\n",
            "        .                 }\n",
            "        .           \n",
            "        .                 // Called by constructors to check initial size.\n",
            "        .                 static size_type\n",
            "        .                 _S_check_init_len(size_type __n, const allocator_type& __a)\n",
            "        .                 {\n",
            "        6 ( 0.00%)  \tif (__n > _S_max_size(_Tp_alloc_type(__a)))\n",
            "        .           \t  __throw_length_error(\n",
            "        .           \t      __N(\"cannot create std::vector larger than max_size()\"));\n",
            "        .           \treturn __n;\n",
            "        .                 }\n",
            "        .           \n",
            "        .                 static size_type\n",
            "        .                 _S_max_size(const _Tp_alloc_type& __a) _GLIBCXX_NOEXCEPT\n",
            "        .                 {\n",
            "-- line 1777 ----------------------------------------\n",
            "-- line 1813 ----------------------------------------\n",
            "        .                 // or because the allocators are equal.\n",
            "        .                 void\n",
            "        .                 _M_move_assign(vector&& __x, true_type) noexcept\n",
            "        .                 {\n",
            "        .           \tvector __tmp(get_allocator());\n",
            "        .           \tthis->_M_impl._M_swap_data(__x._M_impl);\n",
            "        .           \t__tmp._M_impl._M_swap_data(__x._M_impl);\n",
            "        .           \tstd::__alloc_on_move(_M_get_Tp_allocator(), __x._M_get_Tp_allocator());\n",
            "        3 ( 0.00%)        }\n",
            "       15 ( 0.00%)  => /usr/include/c++/11/bits/stl_vector.h:std::vector<std::vector<int, std::allocator<int> >, std::allocator<std::vector<int, std::allocator<int> > > >::~vector() (1x)\n",
            "        .           \n",
            "        .                 // Do move assignment when it might not be possible to move source\n",
            "        .                 // object's memory, resulting in a linear-time operation.\n",
            "        .                 void\n",
            "        .                 _M_move_assign(vector&& __x, false_type)\n",
            "        .                 {\n",
            "        .           \tif (__x._M_get_Tp_allocator() == this->_M_get_Tp_allocator())\n",
            "        .           \t  _M_move_assign(std::move(__x), true_type());\n",
            "-- line 1829 ----------------------------------------\n",
            "\n",
            "--------------------------------------------------------------------------------\n",
            "-- Auto-annotated source: /usr/include/c++/11/ext/new_allocator.h\n",
            "--------------------------------------------------------------------------------\n",
            "Ir                 \n",
            "\n",
            "-- line 103 ----------------------------------------\n",
            "        .                 allocate(size_type __n, const void* = static_cast<const void*>(0))\n",
            "        .                 {\n",
            "        .           #if __cplusplus >= 201103L\n",
            "        .           \t // _GLIBCXX_RESOLVE_LIB_DEFECTS\n",
            "        .           \t // 3308. std::allocator<void>().allocate(n)\n",
            "        .           \t static_assert(sizeof(_Tp) != 0, \"cannot allocate incomplete types\");\n",
            "        .           #endif\n",
            "        .           \n",
            "       15 ( 0.00%)  \tif (__builtin_expect(__n > this->_M_max_size(), false))\n",
            "        .           \t  {\n",
            "        .           \t    // _GLIBCXX_RESOLVE_LIB_DEFECTS\n",
            "        .           \t    // 3190. allocator::allocate sometimes returns too little storage\n",
            "        .           \t    if (__n > (std::size_t(-1) / sizeof(_Tp)))\n",
            "        .           \t      std::__throw_bad_array_new_length();\n",
            "        .           \t    std::__throw_bad_alloc();\n",
            "        .           \t  }\n",
            "        .           \n",
            "        .           #if __cpp_aligned_new\n",
            "        .           \tif (alignof(_Tp) > __STDCPP_DEFAULT_NEW_ALIGNMENT__)\n",
            "        .           \t  {\n",
            "        .           \t    std::align_val_t __al = std::align_val_t(alignof(_Tp));\n",
            "        .           \t    return static_cast<_Tp*>(::operator new(__n * sizeof(_Tp), __al));\n",
            "        .           \t  }\n",
            "        .           #endif\n",
            "3,470,206 ( 2.57%)  \treturn static_cast<_Tp*>(::operator new(__n * sizeof(_Tp)));\n",
            "      775 ( 0.00%)  => ???:0x000000000010a3b0 (5x)\n",
            "        .                 }\n",
            "        .           \n",
            "        .                 // __p is not permitted to be a null pointer.\n",
            "        .                 void\n",
            "        .                 deallocate(_Tp* __p, size_type __t __attribute__ ((__unused__)))\n",
            "        .                 {\n",
            "        .           #if __cpp_aligned_new\n",
            "        .           \tif (alignof(_Tp) > __STDCPP_DEFAULT_NEW_ALIGNMENT__)\n",
            "-- line 135 ----------------------------------------\n",
            "-- line 137 ----------------------------------------\n",
            "        .           \t    ::operator delete(__p,\n",
            "        .           # if __cpp_sized_deallocation\n",
            "        .           \t\t\t      __t * sizeof(_Tp),\n",
            "        .           # endif\n",
            "        .           \t\t\t      std::align_val_t(alignof(_Tp)));\n",
            "        .           \t    return;\n",
            "        .           \t  }\n",
            "        .           #endif\n",
            "  502,366 ( 0.37%)  \t::operator delete(__p\n",
            "       99 ( 0.00%)  => ???:0x000000000010a3c0 (1x)\n",
            "        .           #if __cpp_sized_deallocation\n",
            "        .           \t\t\t  , __t * sizeof(_Tp)\n",
            "        .           #endif\n",
            "        .           \t\t\t );\n",
            "        .                 }\n",
            "        .           \n",
            "        .           #if __cplusplus <= 201703L\n",
            "        .                 size_type\n",
            "-- line 153 ----------------------------------------\n",
            "-- line 154 ----------------------------------------\n",
            "        .                 max_size() const _GLIBCXX_USE_NOEXCEPT\n",
            "        .                 { return _M_max_size(); }\n",
            "        .           \n",
            "        .           #if __cplusplus >= 201103L\n",
            "        .                 template<typename _Up, typename... _Args>\n",
            "        .           \tvoid\n",
            "        .           \tconstruct(_Up* __p, _Args&&... __args)\n",
            "        .           \tnoexcept(std::is_nothrow_constructible<_Up, _Args...>::value)\n",
            "1,929,903 ( 1.43%)  \t{ ::new((void *)__p) _Up(std::forward<_Args>(__args)...); }\n",
            "        .           \n",
            "        .                 template<typename _Up>\n",
            "        .           \tvoid\n",
            "        .           \tdestroy(_Up* __p)\n",
            "        .           \tnoexcept(std::is_nothrow_destructible<_Up>::value)\n",
            "        .           \t{ __p->~_Up(); }\n",
            "        .           #else\n",
            "        .                 // _GLIBCXX_RESOLVE_LIB_DEFECTS\n",
            "-- line 170 ----------------------------------------\n",
            "\n",
            "--------------------------------------------------------------------------------\n",
            "-- User-annotated source: exaustFind.cpp\n",
            "--------------------------------------------------------------------------------\n",
            "Ir                 \n",
            "\n",
            "-- line 3 ----------------------------------------\n",
            "        .           #include <vector>\n",
            "        .           #include <string>\n",
            "        .           #include <cmath>\n",
            "        .           #include <algorithm>\n",
            "        .           \n",
            "        .           using namespace std;\n",
            "        .           \n",
            "        .           // Função para ler o grafo a partir do arquivo de entrada\n",
            "       14 ( 0.00%)  std::vector<std::vector<int>> LerGrafo(const std::string& nomeArquivo, int& numVertices) {\n",
            "        .               std::ifstream arquivo(nomeArquivo);\n",
            "        .               int numArestas;\n",
            "        6 ( 0.00%)      arquivo >> numVertices >> numArestas;\n",
            "    6,487 ( 0.00%)  => ???:0x000000000010a330 (2x)\n",
            "        .           \n",
            "        2 ( 0.00%)      std::vector<std::vector<int>> grafo(numVertices, std::vector<int>(numVertices, 0));\n",
            "        .           \n",
            "    2,631 ( 0.00%)      for (int i = 0; i < numArestas; ++i) {\n",
            "        .                   int u, v;\n",
            "    5,251 ( 0.00%)          arquivo >> u >> v;\n",
            "  742,938 ( 0.55%)  => ???:0x000000000010a330 (1,750x)\n",
            "    7,000 ( 0.01%)          grafo[u - 1][v - 1] = 1;\n",
            "    7,000 ( 0.01%)          grafo[v - 1][u - 1] = 1;  // O grafo é não direcionado\n",
            "        .               }\n",
            "        .           \n",
            "        .               arquivo.close();\n",
            "        .           \n",
            "        .               return grafo;\n",
            "       12 ( 0.00%)  }\n",
            "        .           \n",
            "8,705,961 ( 6.45%)  void FindMaxClique(vector<vector<int>>& graph, vector<int>& possibles, vector<int>& currentClique, vector<int>& maxClique){\n",
            "        .           \n",
            "        5 ( 0.00%)      bool canAdd = true;\n",
            "        .           \n",
            "1,582,902 ( 1.17%)      if (!possibles.empty()){\n",
            "  791,450 ( 0.59%)        int lastClique = possibles.back();\n",
            "        .                 possibles.pop_back();\n",
            "        .                 currentClique.push_back(lastClique);\n",
            "        .           \n",
            "        .                 vector<int> newPossibles;\n",
            "        .           \n",
            "3,372,044 ( 2.50%)        for (int cliquePossible : possibles){\n",
            "1,744,173 ( 1.29%)          if (graph[lastClique][cliquePossible] == 1){\n",
            "        .                     newPossibles.push_back(cliquePossible);\n",
            "        .                   }\n",
            "        .                 }\n",
            "        .           \n",
            "1,978,625 ( 1.46%)        FindMaxClique(graph, newPossibles, currentClique, maxClique);\n",
            "25,182,516 (18.64%)  => exaustFind.cpp:FindMaxClique(std::vector<std::vector<int, std::allocator<int> >, std::allocator<std::vector<int, std::allocator<int> > > >&, std::vector<int, std::allocator<int> >&, std::vector<int, std::allocator<int> >&, std::vector<int, std::allocator<int> >&)'2 (1x)\n",
            "        .                 currentClique.pop_back();\n",
            "1,978,625 ( 1.46%)        FindMaxClique(graph, possibles, currentClique, maxClique);\n",
            "106,690,862 (78.99%)  => exaustFind.cpp:FindMaxClique(std::vector<std::vector<int, std::allocator<int> >, std::allocator<std::vector<int, std::allocator<int> > > >&, std::vector<int, std::allocator<int> >&, std::vector<int, std::allocator<int> >&, std::vector<int, std::allocator<int> >&)'2 (1x)\n",
            "        .                 possibles.push_back(lastClique);\n",
            "        .           \n",
            "        .               }\n",
            "        .               else {\n",
            "        5 ( 0.00%)        int size = currentClique.size();\n",
            "  791,452 ( 0.59%)        if (currentClique.size() > maxClique.size()){\n",
            "       10 ( 0.00%)          for (int i = 0; i < size; ++i) {\n",
            "      840 ( 0.00%)            for (int j = i + 1; j < size; ++j) {\n",
            "      965 ( 0.00%)                if (graph[currentClique[i]][currentClique[j]] == 0) {\n",
            "        .                             canAdd = false;\n",
            "        .                             break;\n",
            "        .                         }\n",
            "        .                     }\n",
            "        .                   }\n",
            "        .                   if (canAdd){\n",
            "        .                     maxClique = currentClique;\n",
            "        .                   }\n",
            "        .                 }\n",
            "        .               }\n",
            "        .           \n",
            "8,705,966 ( 6.45%)  }\n",
            "        .           \n",
            "       10 ( 0.00%)  int main(int argc, char* argv[]){\n",
            "        .               int numVer;\n",
            "        .               vector<vector<int>> graph;\n",
            "        .           \n",
            "        8 ( 0.00%)      graph = LerGrafo(argv[1], numVer);\n",
            "  805,237 ( 0.60%)  => exaustFind.cpp:LerGrafo(std::__cxx11::basic_string<char, std::char_traits<char>, std::allocator<char> > const&, int&) (1x)\n",
            "       15 ( 0.00%)  => /usr/include/c++/11/bits/stl_vector.h:std::vector<std::vector<int, std::allocator<int> >, std::allocator<std::vector<int, std::allocator<int> > > >::~vector() (1x)\n",
            "        .               vector<int> currentClique;\n",
            "        .               vector<int> possibles;\n",
            "        .               vector<int> maxClique;\n",
            "        .           \n",
            "      258 ( 0.00%)      for (int clique = 0; clique < numVer; clique++){\n",
            "        .                   possibles.push_back(clique);\n",
            "        .               }\n",
            "        .           \n",
            "        6 ( 0.00%)      FindMaxClique(graph, possibles, currentClique, maxClique);\n",
            "131,876,278 (97.63%)  => exaustFind.cpp:FindMaxClique(std::vector<std::vector<int, std::allocator<int> >, std::allocator<std::vector<int, std::allocator<int> > > >&, std::vector<int, std::allocator<int> >&, std::vector<int, std::allocator<int> >&, std::vector<int, std::allocator<int> >&) (1x)\n",
            "        .           \n",
            "        .               cout << \"Clique máximo (tamanho \" << maxClique.size() <<\") achado com uma busca exaustiva: \" << endl;\n",
            "        .           \n",
            "       40 ( 0.00%)      for (int el : maxClique){\n",
            "        .                   //adicionando 1 para bater com o resultado do verifyClique\n",
            "       60 ( 0.00%)          cout << el + 1 << \" \";\n",
            "    7,139 ( 0.01%)  => ???:0x000000000010a4a0 (12x)\n",
            "        .               }\n",
            "        .               return 0;\n",
            "       16 ( 0.00%)  }\n",
            "    9,272 ( 0.01%)  => /usr/include/c++/11/bits/stl_vector.h:std::vector<std::vector<int, std::allocator<int> >, std::allocator<std::vector<int, std::allocator<int> > > >::~vector() (1x)\n",
            "\n",
            "--------------------------------------------------------------------------------\n",
            "Ir                  \n",
            "--------------------------------------------------------------------------------\n",
            "75,490,440 (55.89%)  events annotated\n",
            "\n"
          ]
        }
      ]
    },
    {
      "cell_type": "markdown",
      "source": [
        "Encontrei os dois for's juntos como um bom ponto para paralelização!"
      ],
      "metadata": {
        "id": "5zWg04Fc5gwj"
      }
    },
    {
      "cell_type": "code",
      "source": [
        "%%writefile exaustFindOMP.cpp\n",
        "#include <iostream>\n",
        "#include <fstream>\n",
        "#include <vector>\n",
        "#include <string>\n",
        "#include <cmath>\n",
        "#include <algorithm>\n",
        "#include <omp.h>\n",
        "\n",
        "using namespace std;\n",
        "\n",
        "// Função para ler o grafo a partir do arquivo de entrada\n",
        "std::vector<std::vector<int>> LerGrafo(const std::string& nomeArquivo, int& numVertices) {\n",
        "    std::ifstream arquivo(nomeArquivo);\n",
        "    int numArestas;\n",
        "    arquivo >> numVertices >> numArestas;\n",
        "\n",
        "    std::vector<std::vector<int>> grafo(numVertices, std::vector<int>(numVertices, 0));\n",
        "    for (int i = 0; i < numArestas; ++i) {\n",
        "        int u, v;\n",
        "        arquivo >> u >> v;\n",
        "        grafo[u - 1][v - 1] = 1;\n",
        "        grafo[v - 1][u - 1] = 1;  // O grafo é não direcionado\n",
        "    }\n",
        "\n",
        "    arquivo.close();\n",
        "\n",
        "    return grafo;\n",
        "}\n",
        "\n",
        "void FindMaxClique(vector<vector<int>>& graph, vector<int>& possibles, vector<int>& currentClique, vector<int>& maxClique){\n",
        "\n",
        "    bool canAdd = true;\n",
        "\n",
        "    if (!possibles.empty()){\n",
        "      int lastClique = possibles.back();\n",
        "      possibles.pop_back();\n",
        "      currentClique.push_back(lastClique);\n",
        "\n",
        "      vector<int> newPossibles;\n",
        "\n",
        "      for (int i = 0; i < possibles.size(); ++i){\n",
        "        int cliquePossible = possibles[i];\n",
        "        if (graph[lastClique][cliquePossible] == 1){\n",
        "          newPossibles.push_back(cliquePossible);\n",
        "        }\n",
        "      }\n",
        "\n",
        "      FindMaxClique(graph, newPossibles, currentClique, maxClique);\n",
        "      currentClique.pop_back();\n",
        "      FindMaxClique(graph, possibles, currentClique, maxClique);\n",
        "      possibles.push_back(lastClique);\n",
        "    }\n",
        "    else {\n",
        "      int size = currentClique.size();\n",
        "      if (currentClique.size() > maxClique.size()){\n",
        "        #pragma omp parallel for shared(canAdd) collapse(2)\n",
        "        for (int i = 0; i < size; ++i) {\n",
        "          for (int j = i + 1; j < size; ++j) {\n",
        "              if (graph[currentClique[i]][currentClique[j]] == 0) {\n",
        "                  canAdd = false;\n",
        "              }\n",
        "          }\n",
        "        }\n",
        "        if (canAdd){\n",
        "          maxClique = currentClique;\n",
        "        }\n",
        "      }\n",
        "    }\n",
        "}\n",
        "\n",
        "int main(int argc, char* argv[]){\n",
        "    int numVer;\n",
        "    vector<vector<int>> graph;\n",
        "\n",
        "    graph = LerGrafo(argv[1], numVer);\n",
        "    vector<int> currentClique;\n",
        "    vector<int> possibles;\n",
        "    vector<int> maxClique;\n",
        "\n",
        "    omp_set_num_threads(8);\n",
        "\n",
        "    for (int clique = 0; clique < numVer; clique++){\n",
        "        possibles.push_back(clique);\n",
        "    }\n",
        "\n",
        "    FindMaxClique(graph, possibles, currentClique, maxClique);\n",
        "\n",
        "    cout << \"Clique máximo (tamanho \" << maxClique.size() <<\") achado com uma busca exaustiva: \" << endl;\n",
        "\n",
        "    for (int el : maxClique){\n",
        "        //adicionando 1 para bater com o resultado do verifyClique\n",
        "        cout << el + 1 << \" \";\n",
        "    }\n",
        "    return 0;\n",
        "}\n"
      ],
      "metadata": {
        "colab": {
          "base_uri": "https://localhost:8080/"
        },
        "id": "Q5CyAwRjvxaw",
        "outputId": "64bec4ab-cfce-482f-f65a-4ebd6bbef718"
      },
      "execution_count": 334,
      "outputs": [
        {
          "output_type": "stream",
          "name": "stdout",
          "text": [
            "Overwriting exaustFindOMP.cpp\n"
          ]
        }
      ]
    },
    {
      "cell_type": "code",
      "source": [
        "%%shell\n",
        "g++ -fopenmp exaustFindOMP.cpp -o exaustFindOMP"
      ],
      "metadata": {
        "colab": {
          "base_uri": "https://localhost:8080/"
        },
        "id": "Dw6QYr_nAMPs",
        "outputId": "c209c87b-0113-46c5-f69a-a31b97a2039f"
      },
      "execution_count": 335,
      "outputs": [
        {
          "output_type": "execute_result",
          "data": {
            "text/plain": []
          },
          "metadata": {},
          "execution_count": 335
        }
      ]
    },
    {
      "cell_type": "code",
      "source": [
        "%%shell\n",
        "./exaustFindOMP graph50.txt"
      ],
      "metadata": {
        "colab": {
          "base_uri": "https://localhost:8080/"
        },
        "id": "t5ok1rV3An88",
        "outputId": "f4c39463-07b3-4bca-a6d3-67c4810469ff"
      },
      "execution_count": 336,
      "outputs": [
        {
          "output_type": "stream",
          "name": "stdout",
          "text": [
            "Clique máximo (tamanho 12) achado com uma busca exaustiva: \n",
            "47 42 38 36 34 28 27 19 16 15 3 1 "
          ]
        },
        {
          "output_type": "execute_result",
          "data": {
            "text/plain": []
          },
          "metadata": {},
          "execution_count": 336
        }
      ]
    },
    {
      "cell_type": "code",
      "source": [
        "sizeOMP = []\n",
        "timeOMP = []\n",
        "\n",
        "for i in range(init, end, interval):\n",
        "  print(f\"No grafo {i}\")\n",
        "  # ---- Busca Exaust OMP ----\n",
        "  startTime = time.perf_counter()\n",
        "  result = subprocess.run(['./exaustFindOMP', f\"graph{i}.txt\"], text=True, capture_output=True)\n",
        "  endTime = time.perf_counter()\n",
        "  timeOMP.append((endTime - startTime)/60)\n",
        "  result = result.stdout.split(\":\")[1].rstrip().lstrip(\" \\n\").replace(\" \", \",\")\n",
        "  resultList = [int(valor) for valor in result.split(',')]\n",
        "  sizeOMP.append(len(resultList))\n"
      ],
      "metadata": {
        "colab": {
          "base_uri": "https://localhost:8080/"
        },
        "id": "W4edAx4rAcvN",
        "outputId": "39d72c16-b83d-4148-bc75-0499bcdccfd2"
      },
      "execution_count": 337,
      "outputs": [
        {
          "output_type": "stream",
          "name": "stdout",
          "text": [
            "No grafo 50\n",
            "No grafo 55\n",
            "No grafo 60\n",
            "No grafo 65\n",
            "No grafo 70\n",
            "No grafo 75\n",
            "No grafo 80\n",
            "No grafo 85\n",
            "No grafo 90\n",
            "No grafo 95\n",
            "No grafo 100\n",
            "No grafo 105\n",
            "No grafo 110\n",
            "No grafo 115\n",
            "No grafo 120\n",
            "No grafo 125\n",
            "No grafo 130\n",
            "No grafo 135\n",
            "No grafo 140\n",
            "No grafo 145\n"
          ]
        }
      ]
    },
    {
      "cell_type": "code",
      "source": [
        "plt.title(\"Comparação dos tempos entre as buscas\")\n",
        "plt.plot(quantityVer, timeExaust, label = \"Busca Exaustiva\")\n",
        "plt.plot(quantityVer, timeOMP, label = \"Busca OMP\")\n",
        "plt.xlabel(\"Quantidade Vértices\")\n",
        "plt.ylabel(\"Tempo (min)\")\n",
        "plt.legend()\n",
        "plt.show()"
      ],
      "metadata": {
        "colab": {
          "base_uri": "https://localhost:8080/",
          "height": 472
        },
        "id": "eSjakXacwlK_",
        "outputId": "26849c50-e131-4de2-beb4-010879dff6d5"
      },
      "execution_count": 338,
      "outputs": [
        {
          "output_type": "display_data",
          "data": {
            "text/plain": [
              "<Figure size 640x480 with 1 Axes>"
            ],
            "image/png": "[encoded data removed]"
          },
          "metadata": {}
        }
      ]
    },
    {
      "cell_type": "code",
      "source": [
        "#Observar o speedUp\n",
        "dados = []\n",
        "\n",
        "for i in range(0,len(timeExaust)):\n",
        "  dados.append([quantityVer[i],timeExaust[i], timeOMP[i], (timeExaust[i]/timeOMP[i])])\n",
        "\n",
        "print(\"Comparação entre tamanhos\")\n",
        "print(tabulate(dados, headers=[\"Vértices\",\"Busca Exaustiva\", \"Busca Exaustiva OMP\", \"Speed Up\"], tablefmt=\"fancy_grid\"))"
      ],
      "metadata": {
        "colab": {
          "base_uri": "https://localhost:8080/"
        },
        "id": "5B5vVhty7GvN",
        "outputId": "9f1d87ef-c06b-4a2f-d6e0-2bd6f4aa1dde"
      },
      "execution_count": 344,
      "outputs": [
        {
          "output_type": "stream",
          "name": "stdout",
          "text": [
            "Comparação entre tamanhos\n",
            "╒════════════╤═══════════════════╤═══════════════════════╤════════════╕\n",
            "│   Vértices │   Busca Exaustiva │   Busca Exaustiva OMP │   Speed Up │\n",
            "╞════════════╪═══════════════════╪═══════════════════════╪════════════╡\n",
            "│         50 │       0.000273732 │            0.00247137 │  0.110761  │\n",
            "├────────────┼───────────────────┼───────────────────────┼────────────┤\n",
            "│         55 │       0.000254287 │            0.00215941 │  0.117758  │\n",
            "├────────────┼───────────────────┼───────────────────────┼────────────┤\n",
            "│         60 │       0.00104814  │            0.011427   │  0.091725  │\n",
            "├────────────┼───────────────────┼───────────────────────┼────────────┤\n",
            "│         65 │       0.00131783  │            0.0192072  │  0.0686112 │\n",
            "├────────────┼───────────────────┼───────────────────────┼────────────┤\n",
            "│         70 │       0.000828257 │            0.0107557  │  0.0770066 │\n",
            "├────────────┼───────────────────┼───────────────────────┼────────────┤\n",
            "│         75 │       0.00224129  │            0.0322526  │  0.0694917 │\n",
            "├────────────┼───────────────────┼───────────────────────┼────────────┤\n",
            "│         80 │       0.00431004  │            0.0435946  │  0.0988665 │\n",
            "├────────────┼───────────────────┼───────────────────────┼────────────┤\n",
            "│         85 │       0.00834024  │            0.0682852  │  0.122138  │\n",
            "├────────────┼───────────────────┼───────────────────────┼────────────┤\n",
            "│         90 │       0.0156361   │            0.0963246  │  0.162327  │\n",
            "├────────────┼───────────────────┼───────────────────────┼────────────┤\n",
            "│         95 │       0.037991    │            0.226014   │  0.168092  │\n",
            "├────────────┼───────────────────┼───────────────────────┼────────────┤\n",
            "│        100 │       0.0397415   │            0.357124   │  0.111282  │\n",
            "├────────────┼───────────────────┼───────────────────────┼────────────┤\n",
            "│        105 │       0.0333793   │            0.343488   │  0.0971773 │\n",
            "├────────────┼───────────────────┼───────────────────────┼────────────┤\n",
            "│        110 │       0.0621859   │            0.677828   │  0.0917429 │\n",
            "├────────────┼───────────────────┼───────────────────────┼────────────┤\n",
            "│        115 │       0.118159    │            0.949639   │  0.124426  │\n",
            "├────────────┼───────────────────┼───────────────────────┼────────────┤\n",
            "│        120 │       0.102694    │            1.04992    │  0.0978114 │\n",
            "├────────────┼───────────────────┼───────────────────────┼────────────┤\n",
            "│        125 │       0.154561    │            1.31699    │  0.117359  │\n",
            "├────────────┼───────────────────┼───────────────────────┼────────────┤\n",
            "│        130 │       0.254163    │            2.29808    │  0.110598  │\n",
            "├────────────┼───────────────────┼───────────────────────┼────────────┤\n",
            "│        135 │       0.316537    │            3.06022    │  0.103436  │\n",
            "├────────────┼───────────────────┼───────────────────────┼────────────┤\n",
            "│        140 │       0.394499    │            3.59603    │  0.109704  │\n",
            "├────────────┼───────────────────┼───────────────────────┼────────────┤\n",
            "│        145 │       0.488735    │            4.58611    │  0.106569  │\n",
            "╘════════════╧═══════════════════╧═══════════════════════╧════════════╛\n"
          ]
        }
      ]
    }
  ]
}